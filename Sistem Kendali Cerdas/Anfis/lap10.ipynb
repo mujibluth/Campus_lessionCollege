{
 "cells": [
  {
   "cell_type": "markdown",
   "id": "treated-hunter",
   "metadata": {},
   "source": [
    "# Laporan Praktikum 10 Praktik Sistem Kendali Cerdas"
   ]
  },
  {
   "cell_type": "markdown",
   "id": "straight-concentration",
   "metadata": {},
   "source": [
    "# Liana Dewi Ramadanty"
   ]
  },
  {
   "cell_type": "markdown",
   "id": "average-billy",
   "metadata": {},
   "source": [
    "# 19507334035"
   ]
  },
  {
   "cell_type": "code",
   "execution_count": 2,
   "id": "voluntary-western",
   "metadata": {},
   "outputs": [
    {
     "ename": "ModuleNotFoundError",
     "evalue": "No module named 'membership'",
     "output_type": "error",
     "traceback": [
      "\u001b[1;31m---------------------------------------------------------------------------\u001b[0m",
      "\u001b[1;31mModuleNotFoundError\u001b[0m                       Traceback (most recent call last)",
      "\u001b[1;32m<ipython-input-2-731f3c474ee9>\u001b[0m in \u001b[0;36m<module>\u001b[1;34m\u001b[0m\n\u001b[1;32m----> 1\u001b[1;33m \u001b[1;32mimport\u001b[0m \u001b[0manfis\u001b[0m\u001b[1;33m\u001b[0m\u001b[1;33m\u001b[0m\u001b[0m\n\u001b[0m\u001b[0;32m      2\u001b[0m \u001b[1;32mimport\u001b[0m \u001b[0mmembership\u001b[0m\u001b[1;33m.\u001b[0m\u001b[0mmfDerivs\u001b[0m\u001b[1;33m\u001b[0m\u001b[1;33m\u001b[0m\u001b[0m\n\u001b[0;32m      3\u001b[0m \u001b[1;32mimport\u001b[0m \u001b[0mmembership\u001b[0m\u001b[1;33m.\u001b[0m\u001b[0mmembershipfunction\u001b[0m\u001b[1;33m\u001b[0m\u001b[1;33m\u001b[0m\u001b[0m\n\u001b[0;32m      4\u001b[0m \u001b[1;32mimport\u001b[0m \u001b[0mnumpy\u001b[0m\u001b[1;33m\u001b[0m\u001b[1;33m\u001b[0m\u001b[0m\n",
      "\u001b[1;32m~\\anaconda3\\envs\\my-env\\lib\\site-packages\\anfis\\__init__.py\u001b[0m in \u001b[0;36m<module>\u001b[1;34m\u001b[0m\n\u001b[0;32m      1\u001b[0m \u001b[1;32mimport\u001b[0m \u001b[0manfis\u001b[0m\u001b[1;33m\u001b[0m\u001b[1;33m\u001b[0m\u001b[0m\n\u001b[1;32m----> 2\u001b[1;33m \u001b[1;32mfrom\u001b[0m \u001b[0mmembership\u001b[0m \u001b[1;32mimport\u001b[0m \u001b[0mmembershipfunction\u001b[0m\u001b[1;33m\u001b[0m\u001b[1;33m\u001b[0m\u001b[0m\n\u001b[0m\u001b[0;32m      3\u001b[0m \u001b[1;32mfrom\u001b[0m \u001b[0mmembership\u001b[0m \u001b[1;32mimport\u001b[0m \u001b[0mmfDerivs\u001b[0m\u001b[1;33m\u001b[0m\u001b[1;33m\u001b[0m\u001b[0m\n",
      "\u001b[1;31mModuleNotFoundError\u001b[0m: No module named 'membership'"
     ]
    }
   ],
   "source": [
    "import anfis\n",
    "import membership.mfDerivs\n",
    "import membership.membershipfunction\n",
    "import numpy"
   ]
  },
  {
   "cell_type": "code",
   "execution_count": 4,
   "id": "absent-stationery",
   "metadata": {},
   "outputs": [
    {
     "data": {
      "text/plain": [
       "array([[-1.00000000e+01, -1.00000000e+01,  2.95958969e-03],\n",
       "       [-1.00000000e+01, -8.00000000e+00, -6.72789715e-03],\n",
       "       [-1.00000000e+01, -6.00000000e+00,  2.53346550e-03],\n",
       "       [-1.00000000e+01, -4.00000000e+00,  1.02929134e-02],\n",
       "       [-1.00000000e+01, -2.00000000e+00, -2.47338498e-02],\n",
       "       [-1.00000000e+01,  0.00000000e+00, -5.44021111e-02],\n",
       "       [-1.00000000e+01,  2.00000000e+00, -2.47338498e-02],\n",
       "       [-1.00000000e+01,  4.00000000e+00,  1.02929134e-02],\n",
       "       [-1.00000000e+01,  6.00000000e+00,  2.53346550e-03],\n",
       "       [-1.00000000e+01,  8.00000000e+00, -6.72789715e-03],\n",
       "       [-1.00000000e+01,  1.00000000e+01,  2.95958969e-03],\n",
       "       [-8.00000000e+00, -1.00000000e+01, -6.72789715e-03],\n",
       "       [-8.00000000e+00, -8.00000000e+00,  1.52942147e-02],\n",
       "       [-8.00000000e+00, -6.00000000e+00, -5.75920890e-03],\n",
       "       [-8.00000000e+00, -4.00000000e+00, -2.33983997e-02],\n",
       "       [-8.00000000e+00, -2.00000000e+00,  5.62263067e-02],\n",
       "       [-8.00000000e+00,  0.00000000e+00,  1.23669781e-01],\n",
       "       [-8.00000000e+00,  2.00000000e+00,  5.62263067e-02],\n",
       "       [-8.00000000e+00,  4.00000000e+00, -2.33983997e-02],\n",
       "       [-8.00000000e+00,  6.00000000e+00, -5.75920890e-03],\n",
       "       [-8.00000000e+00,  8.00000000e+00,  1.52942147e-02],\n",
       "       [-8.00000000e+00,  1.00000000e+01, -6.72789715e-03],\n",
       "       [-6.00000000e+00, -1.00000000e+01,  2.53346550e-03],\n",
       "       [-6.00000000e+00, -8.00000000e+00, -5.75920890e-03],\n",
       "       [-6.00000000e+00, -6.00000000e+00,  2.16869502e-03],\n",
       "       [-6.00000000e+00, -4.00000000e+00,  8.81093109e-03],\n",
       "       [-6.00000000e+00, -2.00000000e+00, -2.11726495e-02],\n",
       "       [-6.00000000e+00,  0.00000000e+00, -4.65692497e-02],\n",
       "       [-6.00000000e+00,  2.00000000e+00, -2.11726495e-02],\n",
       "       [-6.00000000e+00,  4.00000000e+00,  8.81093109e-03],\n",
       "       [-6.00000000e+00,  6.00000000e+00,  2.16869502e-03],\n",
       "       [-6.00000000e+00,  8.00000000e+00, -5.75920890e-03],\n",
       "       [-6.00000000e+00,  1.00000000e+01,  2.53346550e-03],\n",
       "       [-4.00000000e+00, -1.00000000e+01,  1.02929134e-02],\n",
       "       [-4.00000000e+00, -8.00000000e+00, -2.33983997e-02],\n",
       "       [-4.00000000e+00, -6.00000000e+00,  8.81093109e-03],\n",
       "       [-4.00000000e+00, -4.00000000e+00,  3.57968761e-02],\n",
       "       [-4.00000000e+00, -2.00000000e+00, -8.60198202e-02],\n",
       "       [-4.00000000e+00,  0.00000000e+00, -1.89200624e-01],\n",
       "       [-4.00000000e+00,  2.00000000e+00, -8.60198202e-02],\n",
       "       [-4.00000000e+00,  4.00000000e+00,  3.57968761e-02],\n",
       "       [-4.00000000e+00,  6.00000000e+00,  8.81093109e-03],\n",
       "       [-4.00000000e+00,  8.00000000e+00, -2.33983997e-02],\n",
       "       [-4.00000000e+00,  1.00000000e+01,  1.02929134e-02],\n",
       "       [-2.00000000e+00, -1.00000000e+01, -2.47338498e-02],\n",
       "       [-2.00000000e+00, -8.00000000e+00,  5.62263067e-02],\n",
       "       [-2.00000000e+00, -6.00000000e+00, -2.11726495e-02],\n",
       "       [-2.00000000e+00, -4.00000000e+00, -8.60198202e-02],\n",
       "       [-2.00000000e+00, -2.00000000e+00,  2.06705453e-01],\n",
       "       [-2.00000000e+00,  0.00000000e+00,  4.54648713e-01],\n",
       "       [-2.00000000e+00,  2.00000000e+00,  2.06705453e-01],\n",
       "       [-2.00000000e+00,  4.00000000e+00, -8.60198202e-02],\n",
       "       [-2.00000000e+00,  6.00000000e+00, -2.11726495e-02],\n",
       "       [-2.00000000e+00,  8.00000000e+00,  5.62263067e-02],\n",
       "       [-2.00000000e+00,  1.00000000e+01, -2.47338498e-02],\n",
       "       [ 0.00000000e+00, -1.00000000e+01, -5.44021111e-02],\n",
       "       [ 0.00000000e+00, -8.00000000e+00,  1.23669781e-01],\n",
       "       [ 0.00000000e+00, -6.00000000e+00, -4.65692497e-02],\n",
       "       [ 0.00000000e+00, -4.00000000e+00, -1.89200624e-01],\n",
       "       [ 0.00000000e+00, -2.00000000e+00,  4.54648713e-01],\n",
       "       [ 0.00000000e+00,  0.00000000e+00,  1.00000000e+00],\n",
       "       [ 0.00000000e+00,  2.00000000e+00,  4.54648713e-01],\n",
       "       [ 0.00000000e+00,  4.00000000e+00, -1.89200624e-01],\n",
       "       [ 0.00000000e+00,  6.00000000e+00, -4.65692497e-02],\n",
       "       [ 0.00000000e+00,  8.00000000e+00,  1.23669781e-01],\n",
       "       [ 0.00000000e+00,  1.00000000e+01, -5.44021111e-02],\n",
       "       [ 2.00000000e+00, -1.00000000e+01, -2.47338498e-02],\n",
       "       [ 2.00000000e+00, -8.00000000e+00,  5.62263067e-02],\n",
       "       [ 2.00000000e+00, -6.00000000e+00, -2.11726495e-02],\n",
       "       [ 2.00000000e+00, -4.00000000e+00, -8.60198202e-02],\n",
       "       [ 2.00000000e+00, -2.00000000e+00,  2.06705453e-01],\n",
       "       [ 2.00000000e+00,  0.00000000e+00,  4.54648713e-01],\n",
       "       [ 2.00000000e+00,  2.00000000e+00,  2.06705453e-01],\n",
       "       [ 2.00000000e+00,  4.00000000e+00, -8.60198202e-02],\n",
       "       [ 2.00000000e+00,  6.00000000e+00, -2.11726495e-02],\n",
       "       [ 2.00000000e+00,  8.00000000e+00,  5.62263067e-02],\n",
       "       [ 2.00000000e+00,  1.00000000e+01, -2.47338498e-02],\n",
       "       [ 4.00000000e+00, -1.00000000e+01,  1.02929134e-02],\n",
       "       [ 4.00000000e+00, -8.00000000e+00, -2.33983997e-02],\n",
       "       [ 4.00000000e+00, -6.00000000e+00,  8.81093109e-03],\n",
       "       [ 4.00000000e+00, -4.00000000e+00,  3.57968761e-02],\n",
       "       [ 4.00000000e+00, -2.00000000e+00, -8.60198202e-02],\n",
       "       [ 4.00000000e+00,  0.00000000e+00, -1.89200624e-01],\n",
       "       [ 4.00000000e+00,  2.00000000e+00, -8.60198202e-02],\n",
       "       [ 4.00000000e+00,  4.00000000e+00,  3.57968761e-02],\n",
       "       [ 4.00000000e+00,  6.00000000e+00,  8.81093109e-03],\n",
       "       [ 4.00000000e+00,  8.00000000e+00, -2.33983997e-02],\n",
       "       [ 4.00000000e+00,  1.00000000e+01,  1.02929134e-02],\n",
       "       [ 6.00000000e+00, -1.00000000e+01,  2.53346550e-03],\n",
       "       [ 6.00000000e+00, -8.00000000e+00, -5.75920890e-03],\n",
       "       [ 6.00000000e+00, -6.00000000e+00,  2.16869502e-03],\n",
       "       [ 6.00000000e+00, -4.00000000e+00,  8.81093109e-03],\n",
       "       [ 6.00000000e+00, -2.00000000e+00, -2.11726495e-02],\n",
       "       [ 6.00000000e+00,  0.00000000e+00, -4.65692497e-02],\n",
       "       [ 6.00000000e+00,  2.00000000e+00, -2.11726495e-02],\n",
       "       [ 6.00000000e+00,  4.00000000e+00,  8.81093109e-03],\n",
       "       [ 6.00000000e+00,  6.00000000e+00,  2.16869502e-03],\n",
       "       [ 6.00000000e+00,  8.00000000e+00, -5.75920890e-03],\n",
       "       [ 6.00000000e+00,  1.00000000e+01,  2.53346550e-03],\n",
       "       [ 8.00000000e+00, -1.00000000e+01, -6.72789715e-03],\n",
       "       [ 8.00000000e+00, -8.00000000e+00,  1.52942147e-02],\n",
       "       [ 8.00000000e+00, -6.00000000e+00, -5.75920890e-03],\n",
       "       [ 8.00000000e+00, -4.00000000e+00, -2.33983997e-02],\n",
       "       [ 8.00000000e+00, -2.00000000e+00,  5.62263067e-02],\n",
       "       [ 8.00000000e+00,  0.00000000e+00,  1.23669781e-01],\n",
       "       [ 8.00000000e+00,  2.00000000e+00,  5.62263067e-02],\n",
       "       [ 8.00000000e+00,  4.00000000e+00, -2.33983997e-02],\n",
       "       [ 8.00000000e+00,  6.00000000e+00, -5.75920890e-03],\n",
       "       [ 8.00000000e+00,  8.00000000e+00,  1.52942147e-02],\n",
       "       [ 8.00000000e+00,  1.00000000e+01, -6.72789715e-03],\n",
       "       [ 1.00000000e+01, -1.00000000e+01,  2.95958969e-03],\n",
       "       [ 1.00000000e+01, -8.00000000e+00, -6.72789715e-03],\n",
       "       [ 1.00000000e+01, -6.00000000e+00,  2.53346550e-03],\n",
       "       [ 1.00000000e+01, -4.00000000e+00,  1.02929134e-02],\n",
       "       [ 1.00000000e+01, -2.00000000e+00, -2.47338498e-02],\n",
       "       [ 1.00000000e+01,  0.00000000e+00, -5.44021111e-02],\n",
       "       [ 1.00000000e+01,  2.00000000e+00, -2.47338498e-02],\n",
       "       [ 1.00000000e+01,  4.00000000e+00,  1.02929134e-02],\n",
       "       [ 1.00000000e+01,  6.00000000e+00,  2.53346550e-03],\n",
       "       [ 1.00000000e+01,  8.00000000e+00, -6.72789715e-03],\n",
       "       [ 1.00000000e+01,  1.00000000e+01,  2.95958969e-03]])"
      ]
     },
     "execution_count": 4,
     "metadata": {},
     "output_type": "execute_result"
    }
   ],
   "source": [
    "ts = numpy.loadtxt(\"trainingSet.txt\", usecols=[1,2,3])#numpy.loadtxt('c:\\\\Python_fiddling\\\\myProject\\\\MF\\\\trainingSet.txt',usecols=[1,2,3])\n",
    "ts"
   ]
  },
  {
   "cell_type": "markdown",
   "id": "residential-stylus",
   "metadata": {},
   "source": [
    "Ts merupakan data yang ada di trainingSet.Txt"
   ]
  },
  {
   "cell_type": "code",
   "execution_count": 5,
   "id": "otherwise-merchandise",
   "metadata": {},
   "outputs": [
    {
     "data": {
      "text/plain": [
       "array([[-10., -10.],\n",
       "       [-10.,  -8.],\n",
       "       [-10.,  -6.],\n",
       "       [-10.,  -4.],\n",
       "       [-10.,  -2.],\n",
       "       [-10.,   0.],\n",
       "       [-10.,   2.],\n",
       "       [-10.,   4.],\n",
       "       [-10.,   6.],\n",
       "       [-10.,   8.],\n",
       "       [-10.,  10.],\n",
       "       [ -8., -10.],\n",
       "       [ -8.,  -8.],\n",
       "       [ -8.,  -6.],\n",
       "       [ -8.,  -4.],\n",
       "       [ -8.,  -2.],\n",
       "       [ -8.,   0.],\n",
       "       [ -8.,   2.],\n",
       "       [ -8.,   4.],\n",
       "       [ -8.,   6.],\n",
       "       [ -8.,   8.],\n",
       "       [ -8.,  10.],\n",
       "       [ -6., -10.],\n",
       "       [ -6.,  -8.],\n",
       "       [ -6.,  -6.],\n",
       "       [ -6.,  -4.],\n",
       "       [ -6.,  -2.],\n",
       "       [ -6.,   0.],\n",
       "       [ -6.,   2.],\n",
       "       [ -6.,   4.],\n",
       "       [ -6.,   6.],\n",
       "       [ -6.,   8.],\n",
       "       [ -6.,  10.],\n",
       "       [ -4., -10.],\n",
       "       [ -4.,  -8.],\n",
       "       [ -4.,  -6.],\n",
       "       [ -4.,  -4.],\n",
       "       [ -4.,  -2.],\n",
       "       [ -4.,   0.],\n",
       "       [ -4.,   2.],\n",
       "       [ -4.,   4.],\n",
       "       [ -4.,   6.],\n",
       "       [ -4.,   8.],\n",
       "       [ -4.,  10.],\n",
       "       [ -2., -10.],\n",
       "       [ -2.,  -8.],\n",
       "       [ -2.,  -6.],\n",
       "       [ -2.,  -4.],\n",
       "       [ -2.,  -2.],\n",
       "       [ -2.,   0.],\n",
       "       [ -2.,   2.],\n",
       "       [ -2.,   4.],\n",
       "       [ -2.,   6.],\n",
       "       [ -2.,   8.],\n",
       "       [ -2.,  10.],\n",
       "       [  0., -10.],\n",
       "       [  0.,  -8.],\n",
       "       [  0.,  -6.],\n",
       "       [  0.,  -4.],\n",
       "       [  0.,  -2.],\n",
       "       [  0.,   0.],\n",
       "       [  0.,   2.],\n",
       "       [  0.,   4.],\n",
       "       [  0.,   6.],\n",
       "       [  0.,   8.],\n",
       "       [  0.,  10.],\n",
       "       [  2., -10.],\n",
       "       [  2.,  -8.],\n",
       "       [  2.,  -6.],\n",
       "       [  2.,  -4.],\n",
       "       [  2.,  -2.],\n",
       "       [  2.,   0.],\n",
       "       [  2.,   2.],\n",
       "       [  2.,   4.],\n",
       "       [  2.,   6.],\n",
       "       [  2.,   8.],\n",
       "       [  2.,  10.],\n",
       "       [  4., -10.],\n",
       "       [  4.,  -8.],\n",
       "       [  4.,  -6.],\n",
       "       [  4.,  -4.],\n",
       "       [  4.,  -2.],\n",
       "       [  4.,   0.],\n",
       "       [  4.,   2.],\n",
       "       [  4.,   4.],\n",
       "       [  4.,   6.],\n",
       "       [  4.,   8.],\n",
       "       [  4.,  10.],\n",
       "       [  6., -10.],\n",
       "       [  6.,  -8.],\n",
       "       [  6.,  -6.],\n",
       "       [  6.,  -4.],\n",
       "       [  6.,  -2.],\n",
       "       [  6.,   0.],\n",
       "       [  6.,   2.],\n",
       "       [  6.,   4.],\n",
       "       [  6.,   6.],\n",
       "       [  6.,   8.],\n",
       "       [  6.,  10.],\n",
       "       [  8., -10.],\n",
       "       [  8.,  -8.],\n",
       "       [  8.,  -6.],\n",
       "       [  8.,  -4.],\n",
       "       [  8.,  -2.],\n",
       "       [  8.,   0.],\n",
       "       [  8.,   2.],\n",
       "       [  8.,   4.],\n",
       "       [  8.,   6.],\n",
       "       [  8.,   8.],\n",
       "       [  8.,  10.],\n",
       "       [ 10., -10.],\n",
       "       [ 10.,  -8.],\n",
       "       [ 10.,  -6.],\n",
       "       [ 10.,  -4.],\n",
       "       [ 10.,  -2.],\n",
       "       [ 10.,   0.],\n",
       "       [ 10.,   2.],\n",
       "       [ 10.,   4.],\n",
       "       [ 10.,   6.],\n",
       "       [ 10.,   8.],\n",
       "       [ 10.,  10.]])"
      ]
     },
     "execution_count": 5,
     "metadata": {},
     "output_type": "execute_result"
    }
   ],
   "source": [
    "X = ts[:,0:2]\n",
    "X"
   ]
  },
  {
   "cell_type": "markdown",
   "id": "imposed-buddy",
   "metadata": {},
   "source": [
    "Data X diatas merupakan data input yang diambil dari data Ts"
   ]
  },
  {
   "cell_type": "code",
   "execution_count": 6,
   "id": "boxed-model",
   "metadata": {},
   "outputs": [
    {
     "data": {
      "text/plain": [
       "array([ 0.00295959, -0.0067279 ,  0.00253347,  0.01029291, -0.02473385,\n",
       "       -0.05440211, -0.02473385,  0.01029291,  0.00253347, -0.0067279 ,\n",
       "        0.00295959, -0.0067279 ,  0.01529421, -0.00575921, -0.0233984 ,\n",
       "        0.05622631,  0.12366978,  0.05622631, -0.0233984 , -0.00575921,\n",
       "        0.01529421, -0.0067279 ,  0.00253347, -0.00575921,  0.0021687 ,\n",
       "        0.00881093, -0.02117265, -0.04656925, -0.02117265,  0.00881093,\n",
       "        0.0021687 , -0.00575921,  0.00253347,  0.01029291, -0.0233984 ,\n",
       "        0.00881093,  0.03579688, -0.08601982, -0.18920062, -0.08601982,\n",
       "        0.03579688,  0.00881093, -0.0233984 ,  0.01029291, -0.02473385,\n",
       "        0.05622631, -0.02117265, -0.08601982,  0.20670545,  0.45464871,\n",
       "        0.20670545, -0.08601982, -0.02117265,  0.05622631, -0.02473385,\n",
       "       -0.05440211,  0.12366978, -0.04656925, -0.18920062,  0.45464871,\n",
       "        1.        ,  0.45464871, -0.18920062, -0.04656925,  0.12366978,\n",
       "       -0.05440211, -0.02473385,  0.05622631, -0.02117265, -0.08601982,\n",
       "        0.20670545,  0.45464871,  0.20670545, -0.08601982, -0.02117265,\n",
       "        0.05622631, -0.02473385,  0.01029291, -0.0233984 ,  0.00881093,\n",
       "        0.03579688, -0.08601982, -0.18920062, -0.08601982,  0.03579688,\n",
       "        0.00881093, -0.0233984 ,  0.01029291,  0.00253347, -0.00575921,\n",
       "        0.0021687 ,  0.00881093, -0.02117265, -0.04656925, -0.02117265,\n",
       "        0.00881093,  0.0021687 , -0.00575921,  0.00253347, -0.0067279 ,\n",
       "        0.01529421, -0.00575921, -0.0233984 ,  0.05622631,  0.12366978,\n",
       "        0.05622631, -0.0233984 , -0.00575921,  0.01529421, -0.0067279 ,\n",
       "        0.00295959, -0.0067279 ,  0.00253347,  0.01029291, -0.02473385,\n",
       "       -0.05440211, -0.02473385,  0.01029291,  0.00253347, -0.0067279 ,\n",
       "        0.00295959])"
      ]
     },
     "execution_count": 6,
     "metadata": {},
     "output_type": "execute_result"
    }
   ],
   "source": [
    "Y = ts[:,2]\n",
    "Y"
   ]
  },
  {
   "cell_type": "markdown",
   "id": "progressive-mapping",
   "metadata": {},
   "source": [
    "Y adalah data untuk menampilkan data output pada data Ts"
   ]
  },
  {
   "cell_type": "code",
   "execution_count": 7,
   "id": "simplified-festival",
   "metadata": {},
   "outputs": [
    {
     "data": {
      "text/plain": [
       "[[['gaussmf', {'mean': 0.0, 'sigma': 1.0}],\n",
       "  ['gaussmf', {'mean': -1.0, 'sigma': 2.0}],\n",
       "  ['gaussmf', {'mean': -4.0, 'sigma': 10.0}],\n",
       "  ['gaussmf', {'mean': -7.0, 'sigma': 7.0}]],\n",
       " [['gaussmf', {'mean': 1.0, 'sigma': 2.0}],\n",
       "  ['gaussmf', {'mean': 2.0, 'sigma': 3.0}],\n",
       "  ['gaussmf', {'mean': -2.0, 'sigma': 10.0}],\n",
       "  ['gaussmf', {'mean': -10.5, 'sigma': 5.0}]]]"
      ]
     },
     "execution_count": 7,
     "metadata": {},
     "output_type": "execute_result"
    }
   ],
   "source": [
    "mf = [[['gaussmf',{'mean':0.,'sigma':1.}],\n",
    "       ['gaussmf',{'mean':-1.,'sigma':2.}],\n",
    "       ['gaussmf',{'mean':-4.,'sigma':10.}],\n",
    "       ['gaussmf',{'mean':-7.,'sigma':7.}]],\n",
    "        [['gaussmf',{'mean':1.,'sigma':2.}],\n",
    "        ['gaussmf',{'mean':2.,'sigma':3.}],\n",
    "        ['gaussmf',{'mean':-2.,'sigma':10.}],\n",
    "        ['gaussmf',{'mean':-10.5,'sigma':5.}]]]\n",
    "mf"
   ]
  },
  {
   "cell_type": "markdown",
   "id": "aggressive-adventure",
   "metadata": {},
   "source": [
    "Gaussmf memiliki nilai mean dan nilai sigma. Nilai mean adalah nilai center, nilai sigma adalah nilai standar deviasi. Kemudian kita simpan dalam variabel mf."
   ]
  },
  {
   "cell_type": "code",
   "execution_count": 8,
   "id": "fabulous-lotus",
   "metadata": {},
   "outputs": [
    {
     "data": {
      "text/plain": [
       "<membership.membershipfunction.MemFuncs at 0x26a94ce5d30>"
      ]
     },
     "execution_count": 8,
     "metadata": {},
     "output_type": "execute_result"
    }
   ],
   "source": [
    "mfc = membership.membershipfunction.MemFuncs(mf)\n",
    "mfc"
   ]
  },
  {
   "cell_type": "markdown",
   "id": "operating-latin",
   "metadata": {},
   "source": [
    "Kode diatas adalah perintah untuk mencetak membershipfunction layer menggunakan perintah membershipfunction.MemFuncs(mf)"
   ]
  },
  {
   "cell_type": "code",
   "execution_count": 10,
   "id": "entertaining-welsh",
   "metadata": {},
   "outputs": [
    {
     "data": {
      "text/plain": [
       "<anfis.ANFIS at 0x26a94c92430>"
      ]
     },
     "execution_count": 10,
     "metadata": {},
     "output_type": "execute_result"
    }
   ],
   "source": [
    "anf = anfis.ANFIS(X, Y, mfc)\n",
    "anf"
   ]
  },
  {
   "cell_type": "markdown",
   "id": "miniature-color",
   "metadata": {},
   "source": [
    "Untuk menjalankan anfis, kita hanya tinggal mamasukkan nilai x sebagai input, y sebagai output, dan mfc yang merupakan bentuk dari membershipfunction yang digunakan diatas"
   ]
  },
  {
   "cell_type": "code",
   "execution_count": 11,
   "id": "secret-designer",
   "metadata": {},
   "outputs": [
    {
     "name": "stdout",
     "output_type": "stream",
     "text": [
      "current error: 0.3219713313023792\n",
      "current error: 0.3206496967785757\n",
      "current error: 0.3193598359657091\n",
      "current error: 0.3180964819660266\n",
      "current error: 0.31673125060829765\n",
      "current error: 0.3152546970543038\n",
      "current error: 0.31365648102556865\n",
      "current error: 0.31192543517961857\n",
      "current error: 0.31004976930416217\n",
      "current error: 0.30801749864543804\n",
      "current error: 0.3058172226718672\n",
      "current error: 0.30343942051130285\n",
      "current error: 0.300878450478208\n",
      "current error: 0.29813538447370813\n",
      "current error: 0.29522149867013137\n",
      "current error: 0.29216105234630596\n",
      "current error: 0.28898684515632633\n",
      "current error: 0.2856912569145435\n",
      "current error: 0.28184647973417154\n"
     ]
    },
    {
     "data": {
      "text/plain": [
       "array([[-1.19786767e-02],\n",
       "       [ 5.19007695e-03],\n",
       "       [ 1.50858291e-02],\n",
       "       [ 5.66106857e-03],\n",
       "       [-1.66125571e-02],\n",
       "       [ 2.58351102e-03],\n",
       "       [ 3.35328470e-02],\n",
       "       [ 2.84855950e-02],\n",
       "       [ 1.63883100e-03],\n",
       "       [-1.66157597e-03],\n",
       "       [ 5.15880107e-03],\n",
       "       [-1.03492980e-02],\n",
       "       [ 6.03637357e-03],\n",
       "       [ 1.49551447e-02],\n",
       "       [ 5.02809128e-03],\n",
       "       [-2.20156604e-02],\n",
       "       [-1.51514181e-02],\n",
       "       [ 1.22868327e-02],\n",
       "       [ 1.84446227e-02],\n",
       "       [ 4.90866622e-03],\n",
       "       [ 5.85381400e-04],\n",
       "       [ 1.93971607e-03],\n",
       "       [-7.45887383e-03],\n",
       "       [ 7.98275085e-03],\n",
       "       [ 1.35220824e-02],\n",
       "       [ 2.54597152e-04],\n",
       "       [-3.13692042e-02],\n",
       "       [-4.34094757e-02],\n",
       "       [-3.16114076e-02],\n",
       "       [-1.31716722e-02],\n",
       "       [ 2.32403948e-03],\n",
       "       [ 3.63461095e-03],\n",
       "       [-1.97031364e-03],\n",
       "       [-2.29345985e-03],\n",
       "       [ 1.24549606e-02],\n",
       "       [ 4.90763465e-03],\n",
       "       [-2.03049396e-02],\n",
       "       [-2.14149558e-02],\n",
       "       [-2.06081050e-02],\n",
       "       [-6.19780957e-02],\n",
       "       [-6.68501004e-02],\n",
       "       [-8.86472914e-03],\n",
       "       [ 8.26630909e-03],\n",
       "       [-8.67631020e-03],\n",
       "       [ 9.89335235e-03],\n",
       "       [ 8.22092577e-03],\n",
       "       [-3.31788514e-02],\n",
       "       [-5.62570770e-02],\n",
       "       [ 1.68241103e-01],\n",
       "       [ 3.75131950e-01],\n",
       "       [ 1.80234108e-01],\n",
       "       [-4.11688230e-02],\n",
       "       [-1.39472862e-02],\n",
       "       [ 1.67155871e-02],\n",
       "       [-2.19169364e-02],\n",
       "       [ 4.16532870e-02],\n",
       "       [-8.07087368e-03],\n",
       "       [-1.00935922e-01],\n",
       "       [-9.32715288e-02],\n",
       "       [ 4.85986212e-01],\n",
       "       [ 9.17442711e-01],\n",
       "       [ 3.92340049e-01],\n",
       "       [-1.52942095e-01],\n",
       "       [-7.37961579e-02],\n",
       "       [ 3.96021736e-02],\n",
       "       [-3.35218412e-02],\n",
       "       [ 1.05294807e-02],\n",
       "       [ 1.02821355e-03],\n",
       "       [-3.63494134e-02],\n",
       "       [-4.57539376e-02],\n",
       "       [ 1.87440108e-01],\n",
       "       [ 3.88783789e-01],\n",
       "       [ 1.81959082e-01],\n",
       "       [-5.77450417e-02],\n",
       "       [-3.98734901e-02],\n",
       "       [ 9.09681648e-03],\n",
       "       [-1.40147915e-02],\n",
       "       [-5.09975919e-03],\n",
       "       [ 6.65924262e-03],\n",
       "       [ 7.34173725e-03],\n",
       "       [-5.39915093e-03],\n",
       "       [-1.55039587e-02],\n",
       "       [-8.42034935e-03],\n",
       "       [-6.90367996e-03],\n",
       "       [-6.92735177e-03],\n",
       "       [ 2.98982765e-05],\n",
       "       [-5.31592304e-04],\n",
       "       [-5.35489399e-03],\n",
       "       [-4.49669454e-03],\n",
       "       [ 6.52995724e-03],\n",
       "       [ 9.79897230e-03],\n",
       "       [-1.11705951e-03],\n",
       "       [-3.40038407e-02],\n",
       "       [-5.97837945e-02],\n",
       "       [-5.28040615e-02],\n",
       "       [-2.64330768e-02],\n",
       "       [-2.72285325e-03],\n",
       "       [ 1.01888553e-03],\n",
       "       [-2.37782564e-03],\n",
       "       [-5.52198283e-03],\n",
       "       [ 5.31835303e-03],\n",
       "       [ 8.75121326e-03],\n",
       "       [-3.00335877e-04],\n",
       "       [-2.15349229e-02],\n",
       "       [-2.88011302e-02],\n",
       "       [-1.82299860e-02],\n",
       "       [-5.88363424e-03],\n",
       "       [ 2.96900379e-04],\n",
       "       [ 6.10633596e-04],\n",
       "       [ 6.93581907e-04],\n",
       "       [-7.10373225e-03],\n",
       "       [ 3.80643521e-03],\n",
       "       [ 7.49023497e-03],\n",
       "       [ 8.59608739e-04],\n",
       "       [-2.72155797e-03],\n",
       "       [ 1.88244330e-02],\n",
       "       [ 3.52702041e-02],\n",
       "       [ 2.68190309e-02],\n",
       "       [ 6.63871097e-03],\n",
       "       [ 3.49026511e-04],\n",
       "       [ 4.04438988e-03]])"
      ]
     },
     "execution_count": 11,
     "metadata": {},
     "output_type": "execute_result"
    }
   ],
   "source": [
    "anf.trainHybridJangOffLine(epochs=20)"
   ]
  },
  {
   "cell_type": "markdown",
   "id": "detailed-variance",
   "metadata": {},
   "source": [
    "Perintah diatas berfungsi untuk mentraining dengan parameter (epochs=20) dimana ada 20 kali iterasi untuk menghasilkan nilai error."
   ]
  },
  {
   "cell_type": "code",
   "execution_count": 1,
   "id": "framed-greene",
   "metadata": {},
   "outputs": [
    {
     "ename": "ModuleNotFoundError",
     "evalue": "No module named 'membership'",
     "output_type": "error",
     "traceback": [
      "\u001b[1;31m---------------------------------------------------------------------------\u001b[0m",
      "\u001b[1;31mModuleNotFoundError\u001b[0m                       Traceback (most recent call last)",
      "\u001b[1;32m<ipython-input-1-3840db452abc>\u001b[0m in \u001b[0;36m<module>\u001b[1;34m\u001b[0m\n\u001b[1;32m----> 1\u001b[1;33m \u001b[1;32mimport\u001b[0m \u001b[0manfis\u001b[0m\u001b[1;33m\u001b[0m\u001b[1;33m\u001b[0m\u001b[0m\n\u001b[0m\u001b[0;32m      2\u001b[0m \u001b[1;32mimport\u001b[0m \u001b[0mmembership\u001b[0m\u001b[1;33m.\u001b[0m\u001b[0mmfDerivs\u001b[0m\u001b[1;33m\u001b[0m\u001b[1;33m\u001b[0m\u001b[0m\n\u001b[0;32m      3\u001b[0m \u001b[1;32mimport\u001b[0m \u001b[0mmembership\u001b[0m\u001b[1;33m.\u001b[0m\u001b[0mmembershipfunction\u001b[0m\u001b[1;33m\u001b[0m\u001b[1;33m\u001b[0m\u001b[0m\n\u001b[0;32m      4\u001b[0m \u001b[1;32mimport\u001b[0m \u001b[0mnumpy\u001b[0m\u001b[1;33m\u001b[0m\u001b[1;33m\u001b[0m\u001b[0m\n\u001b[0;32m      5\u001b[0m \u001b[1;33m\u001b[0m\u001b[0m\n",
      "\u001b[1;32m~\\anaconda3\\envs\\my-env\\lib\\site-packages\\anfis\\__init__.py\u001b[0m in \u001b[0;36m<module>\u001b[1;34m\u001b[0m\n\u001b[0;32m      1\u001b[0m \u001b[1;32mimport\u001b[0m \u001b[0manfis\u001b[0m\u001b[1;33m\u001b[0m\u001b[1;33m\u001b[0m\u001b[0m\n\u001b[1;32m----> 2\u001b[1;33m \u001b[1;32mfrom\u001b[0m \u001b[0mmembership\u001b[0m \u001b[1;32mimport\u001b[0m \u001b[0mmembershipfunction\u001b[0m\u001b[1;33m\u001b[0m\u001b[1;33m\u001b[0m\u001b[0m\n\u001b[0m\u001b[0;32m      3\u001b[0m \u001b[1;32mfrom\u001b[0m \u001b[0mmembership\u001b[0m \u001b[1;32mimport\u001b[0m \u001b[0mmfDerivs\u001b[0m\u001b[1;33m\u001b[0m\u001b[1;33m\u001b[0m\u001b[0m\n",
      "\u001b[1;31mModuleNotFoundError\u001b[0m: No module named 'membership'"
     ]
    }
   ],
   "source": [
    "import anfis\n",
    "import membership.mfDerivs\n",
    "import membership.membershipfunction\n",
    "import numpy\n",
    "\n",
    "ts = numpy.loadtxt(\"trainingSet.txt\", usecols=[1,2,3])#numpy.loadtxt('c:\\\\Python_fiddling\\\\myProject\\\\MF\\\\trainingSet.txt',usecols=[1,2,3])\n",
    "X = ts[:,0:2]\n",
    "Y = ts[:,2]\n",
    "\n",
    "mf = [[['gaussmf',{'mean':0.,'sigma':1.}],\n",
    "       ['gaussmf',{'mean':-1.,'sigma':2.}],\n",
    "       ['gaussmf',{'mean':-4.,'sigma':10.}],\n",
    "       ['gaussmf',{'mean':-7.,'sigma':7.}]],\n",
    "    [['gaussmf',{'mean':1.,'sigma':2.}],\n",
    "     ['gaussmf',{'mean':2.,'sigma':3.}],\n",
    "     ['gaussmf',{'mean':-2.,'sigma':10.}],\n",
    "     ['gaussmf',{'mean':-10.5,'sigma':5.}]]]\n",
    "\n",
    "\n",
    "mfc = membership.membershipfunction.MemFuncs(mf)\n",
    "anf = anfis.ANFIS(X, Y, mfc)\n",
    "anf.trainHybridJangOffLine(epochs=20)\n",
    "\n",
    "#print(round(anf.consequents[-1][0],6))\n",
    "#print(round(anf.consequents[-2][0],6))\n",
    "#print(round(anf.fittedValues[9][0],6))\n",
    "#if round(anf.consequents[-1][0],6) == -5.275538 and round(anf.consequents[-2][0],6) == -1.990703 and round(anf.fittedValues[9][0],6) == 0.002249:\n",
    "#\tprint('test is good')\n",
    "\n",
    "print(\"Plotting errors\")\n",
    "anf.plotErrors()\n",
    "print(\"Plotting results\")\n",
    "anf.plotResults()"
   ]
  },
  {
   "cell_type": "markdown",
   "id": "mediterranean-portugal",
   "metadata": {},
   "source": [
    "Plotting error diatas terlihat pada saat awal training, nilai error sekitar 0.3219713313023792, tetapi setelah proses 20 kali, nilai error menjadi 0.28184647973417154. Hal tersebut menunjukkan bahwa terdapat perbaikan dari sisi errornya karena nilai error semakin mengecil. Jika proses diperpanjang, misal kita ubah lebih dari 20 kali proses, kemungkinan error akan semakin mengecil bahkan akan mendekati 0.\n",
    "\n",
    "Plotting Result adalah gambar perbandingan antara sinyal keluaran (original/sinyal biru) dengan sinyal hasil trained (sinyal berwarna merah) / output yang diprediksi yang berdasarkan hasil training. Dilihat dari grafik yang dihasilkan memang belum sempurna, tetapi dalam grafik tersebut, bisa dilihat bahwa nilainya tidak terlalu jauh dari hasil original. Sinyal trained bisa mengikuti sinyal original walaupun ada beberapa titik-titik yang mungkin sedikit terlambat/ nilainya tidak sesuai dengan hasil originalnya. Hal tersebut dapat dilakukan perbaikan agar nilai hasil trained-nya mendekati nilai original. "
   ]
  }
 ],
 "metadata": {
  "kernelspec": {
   "display_name": "Python 3",
   "language": "python",
   "name": "python3"
  },
  "language_info": {
   "codemirror_mode": {
    "name": "ipython",
    "version": 3
   },
   "file_extension": ".py",
   "mimetype": "text/x-python",
   "name": "python",
   "nbconvert_exporter": "python",
   "pygments_lexer": "ipython3",
   "version": "3.8.5"
  }
 },
 "nbformat": 4,
 "nbformat_minor": 5
}
