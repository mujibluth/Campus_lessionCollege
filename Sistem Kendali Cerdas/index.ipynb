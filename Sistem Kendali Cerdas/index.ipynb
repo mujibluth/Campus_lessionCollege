{
 "cells": [
  {
   "cell_type": "markdown",
   "id": "developing-louisville",
   "metadata": {},
   "source": [
    "# Laporan Praktikum Sistem Kendali Cerdas\n",
    "# Abdul Mujiburrohman Luthfi (19507334027)"
   ]
  },
  {
   "cell_type": "markdown",
   "id": "understood-introduction",
   "metadata": {},
   "source": [
    "Berikut adalah arti/ makna dari syntax-syntax yang ada dalam kode dibawah. Sumber nya sendiri diambil dari dokumentasi setiap library yang kami panggil untuk proyek ini. Source code sudah disediakan oleh Dosen dan saya akan mengupas setiap syntax yang ada"
   ]
  },
  {
   "cell_type": "markdown",
   "id": "reasonable-people",
   "metadata": {},
   "source": [
    "# Source code 1"
   ]
  },
  {
   "cell_type": "code",
   "execution_count": 1,
   "id": "filled-penalty",
   "metadata": {},
   "outputs": [
    {
     "name": "stdout",
     "output_type": "stream",
     "text": [
      "Epoch 1/50\n",
      "4/4 [==============================] - 0s 4ms/step - loss: 1.2258\n",
      "Epoch 2/50\n",
      "4/4 [==============================] - 0s 4ms/step - loss: 1.1988\n",
      "Epoch 3/50\n",
      "4/4 [==============================] - 0s 5ms/step - loss: 1.0456\n",
      "Epoch 4/50\n",
      "4/4 [==============================] - 0s 22ms/step - loss: 1.1454\n",
      "Epoch 5/50\n",
      "4/4 [==============================] - 0s 5ms/step - loss: 1.1289\n",
      "Epoch 6/50\n",
      "4/4 [==============================] - 0s 11ms/step - loss: 1.1390\n",
      "Epoch 7/50\n",
      "4/4 [==============================] - 0s 4ms/step - loss: 1.1663\n",
      "Epoch 8/50\n",
      "4/4 [==============================] - 0s 5ms/step - loss: 1.1336\n",
      "Epoch 9/50\n",
      "4/4 [==============================] - 0s 4ms/step - loss: 1.1275\n",
      "Epoch 10/50\n",
      "4/4 [==============================] - 0s 6ms/step - loss: 1.0380\n",
      "Epoch 11/50\n",
      "4/4 [==============================] - 0s 4ms/step - loss: 0.9386\n",
      "Epoch 12/50\n",
      "4/4 [==============================] - 0s 4ms/step - loss: 0.9200\n",
      "Epoch 13/50\n",
      "4/4 [==============================] - 0s 8ms/step - loss: 0.8983\n",
      "Epoch 14/50\n",
      "4/4 [==============================] - 0s 4ms/step - loss: 0.8727\n",
      "Epoch 15/50\n",
      "4/4 [==============================] - 0s 4ms/step - loss: 0.8218\n",
      "Epoch 16/50\n",
      "4/4 [==============================] - 0s 4ms/step - loss: 0.8429\n",
      "Epoch 17/50\n",
      "4/4 [==============================] - 0s 33ms/step - loss: 0.8110\n",
      "Epoch 18/50\n",
      "4/4 [==============================] - 0s 4ms/step - loss: 0.8093\n",
      "Epoch 19/50\n",
      "4/4 [==============================] - 0s 5ms/step - loss: 0.8046\n",
      "Epoch 20/50\n",
      "4/4 [==============================] - 0s 39ms/step - loss: 0.7808: 0s - loss: 0.77\n",
      "Epoch 21/50\n",
      "4/4 [==============================] - 0s 7ms/step - loss: 0.7999\n",
      "Epoch 22/50\n",
      "4/4 [==============================] - ETA: 0s - loss: 0.344 - 0s 9ms/step - loss: 0.7175\n",
      "Epoch 23/50\n",
      "4/4 [==============================] - 0s 4ms/step - loss: 0.9119\n",
      "Epoch 24/50\n",
      "4/4 [==============================] - 0s 3ms/step - loss: 0.6814\n",
      "Epoch 25/50\n",
      "4/4 [==============================] - 0s 10ms/step - loss: 0.7776\n",
      "Epoch 26/50\n",
      "4/4 [==============================] - 0s 7ms/step - loss: 0.2118\n",
      "Epoch 27/50\n",
      "4/4 [==============================] - 0s 5ms/step - loss: 0.1384\n",
      "Epoch 28/50\n",
      "4/4 [==============================] - 0s 4ms/step - loss: 0.1097\n",
      "Epoch 29/50\n",
      "4/4 [==============================] - 0s 8ms/step - loss: 0.0920\n",
      "Epoch 30/50\n",
      "4/4 [==============================] - 0s 4ms/step - loss: 0.0794\n",
      "Epoch 31/50\n",
      "4/4 [==============================] - 0s 5ms/step - loss: 0.0699\n",
      "Epoch 32/50\n",
      "4/4 [==============================] - 0s 5ms/step - loss: 0.0625\n",
      "Epoch 33/50\n",
      "4/4 [==============================] - 0s 3ms/step - loss: 0.0566\n",
      "Epoch 34/50\n",
      "4/4 [==============================] - 0s 4ms/step - loss: 0.0517\n",
      "Epoch 35/50\n",
      "4/4 [==============================] - 0s 4ms/step - loss: 0.0476\n",
      "Epoch 36/50\n",
      "4/4 [==============================] - 0s 8ms/step - loss: 0.0441\n",
      "Epoch 37/50\n",
      "4/4 [==============================] - 0s 7ms/step - loss: 0.0411\n",
      "Epoch 38/50\n",
      "4/4 [==============================] - 0s 7ms/step - loss: 0.0385\n",
      "Epoch 39/50\n",
      "4/4 [==============================] - 0s 6ms/step - loss: 0.0362\n",
      "Epoch 40/50\n",
      "4/4 [==============================] - 0s 5ms/step - loss: 0.0341\n",
      "Epoch 41/50\n",
      "4/4 [==============================] - 0s 11ms/step - loss: 0.0323\n",
      "Epoch 42/50\n",
      "4/4 [==============================] - 0s 5ms/step - loss: 0.0307\n",
      "Epoch 43/50\n",
      "4/4 [==============================] - 0s 3ms/step - loss: 0.0292\n",
      "Epoch 44/50\n",
      "4/4 [==============================] - 0s 4ms/step - loss: 0.0279\n",
      "Epoch 45/50\n",
      "4/4 [==============================] - 0s 6ms/step - loss: 0.0267\n",
      "Epoch 46/50\n",
      "4/4 [==============================] - 0s 4ms/step - loss: 0.0255\n",
      "Epoch 47/50\n",
      "4/4 [==============================] - 0s 5ms/step - loss: 0.0245\n",
      "Epoch 48/50\n",
      "4/4 [==============================] - 0s 4ms/step - loss: 0.0236\n",
      "Epoch 49/50\n",
      "4/4 [==============================] - 0s 4ms/step - loss: 0.0227\n",
      "Epoch 50/50\n",
      "4/4 [==============================] - 0s 4ms/step - loss: 0.0219\n",
      "[[0.98594046]\n",
      " [0.0253363 ]\n",
      " [0.03032076]\n",
      " [0.98881185]]\n"
     ]
    }
   ],
   "source": [
    "import tensorflow as tf\n",
    "from tensorflow import keras\n",
    "import numpy as np\n",
    "\n",
    "model = keras.Sequential()\n",
    "\n",
    "input_layer = keras.layers.Dense(8,input_dim=2,activation='tanh')\n",
    "model.add(input_layer)\n",
    "hidden_layer = keras.layers.Dense(3,activation='tanh')\n",
    "model.add(hidden_layer)\n",
    "output_layer = keras.layers.Dense(1,activation='sigmoid')\n",
    "model.add(output_layer)\n",
    "\n",
    "sgd = keras.optimizers.SGD(lr=1)\n",
    "model.compile(optimizer=sgd,loss='binary_crossentropy')\n",
    "\n",
    "x = np.array([[0,0],[0,1],[1,0],[1,1]])\n",
    "y = np.array([[1],[0],[0],[1]])\n",
    "\n",
    "model.fit(x,y, batch_size=1, epochs=50, shuffle=False)\n",
    "results = model.predict(x,verbose=0,steps=1)\n",
    "print(results)"
   ]
  },
  {
   "cell_type": "markdown",
   "id": "closing-brass",
   "metadata": {
    "tags": []
   },
   "source": [
    "## Terjemah syntax source code 1"
   ]
  },
  {
   "cell_type": "markdown",
   "id": "neither-sheffield",
   "metadata": {},
   "source": [
    "Dalam proyek kali ini, saya menggunakan 3 modul, yaitu library tensorflow, library numpy, dan ada modul keras yang diambil dari library tensorflow. <br>\n",
    "Berikut pemanggilan Library dan inisialisasi nya yang akan kita gunakan untuk proyek ini :"
   ]
  },
  {
   "cell_type": "markdown",
   "id": "remarkable-auckland",
   "metadata": {},
   "source": [
    "   - Library <b>tensorflow</b> di inisialisasi dengan <b>tf</b> <br>\n",
    "   - Mengambil package <b>keras</b> dari Library tensorflow <br>\n",
    "   - Library <b>numpy</b> di inisialisasi dengan <b>np</b> <br>"
   ]
  },
  {
   "cell_type": "markdown",
   "id": "exciting-component",
   "metadata": {},
   "source": [
    "Kita bisa menggunakan semua library dan package yang sudah kkita import dengan cara memanggil inisialisasinya. <br>\n",
    "Lalu berikut ada beberapa fungsi yang ada dalam program kode diatas. Diantaranya :"
   ]
  },
  {
   "cell_type": "markdown",
   "id": "lonely-population",
   "metadata": {},
   "source": [
    "   - <b>Model</b> : model mengelompokkan lapisan menjadi objek dengan fitur pelatihan dan inferensi. <br>\n",
    "   - <b>class Sequential</b> : Sequential mengelompokkan tumpukan linier dari lapisan ke dalam a \"tf.keras.Model.\" <br>\n",
    "Berikut beberapa argumen juga yang ada dalam model keras : <br>\n",
    "   - input : bisa digunakan dengan cara merangkai panggilan lapisan untuk menentukan penerusan model, dan terakhir Anda membuat model dari masukan dan keluaran. Pada contoh kasus ini, argumen input digunakan menggunakan metode \"metrics_names\", dimana metode ini Mengembalikan label tampilan model untuk semua keluaran.\n",
    "   - optimizer : (String (nama pengoptimal) atau contoh pengoptimal)\n",
    "   - compile : ada juga metode compile yang digunakan untuk Mengonfigurasi model untuk pelatihan. Compile dalam kontex ini berupa argumen optimizer\n",
    "   - <b>x</b> pada fit : input/ masukan datanya. x ini bisa berupa array NumPy, tensor pada TensorFlow, Sebuah generator atau keras.utils.Sequence, dll.\n",
    "   - <b>y</b> pada fit : Data target. Seperti data masukan x, bisa berupa array Numpy atau tensor TensorFlow. Ini harus konsisten dengan x(Anda tidak dapat memiliki input Numpy dan target tensor, atau sebaliknya). Jika xmerupakan set data, generator, atau keras.utils.Sequenceinstance, ytidak boleh ditentukan (karena target akan diperoleh dari x).\n",
    "   - model.predict : metode ini secara langsung mengontrol tf.functiondan tf.distribute.Strategymenyetel, dan mendelegasikan logika evaluasi aktual ke Model.predict_step. Fungsi ini di-cache pertama kali Model.predictatau Model.predict_on_batchdipanggil. Cache dihapus setiap kali Model.compiledipanggil.\n",
    "   "
   ]
  },
  {
   "cell_type": "markdown",
   "id": "hispanic-trinidad",
   "metadata": {},
   "source": [
    "## Hasil/ output program"
   ]
  },
  {
   "cell_type": "markdown",
   "id": "medieval-sixth",
   "metadata": {},
   "source": [
    "- <b>model.fit</b> : Dalam akhir program, ditentukan sebuah kode untuk mencetak \"model.fit\" yang artinya akan menampilkan pengelopokan lapisan menjadi objek dengan fitur interferensi. Argument yang digunakan yaitu menggunakan x dan y pada fit. Nilai yang diinputkan dalam program termasuk nilai input (x) dan nilai target (y) yang ingin di proses. Pemrosesan dimuali dari Epoach 1 sampai dengan angka 50 (sudah diatur di program), dengan nilai shuffle nya adalah False. <br>\n",
    "- <b>result</b> : Dalam fungsi ini, result di presentasikan dengan argumen \"model.predict\" yang artinya program akan diproses berdasarkan fungsi model dengan menggabungkan fungsi prediksi <br>\n",
    "- <b>print</b> : fungsi ini kita gunakan untuk menampilkan hasil pengembalian dari proses result sendiri"
   ]
  },
  {
   "cell_type": "markdown",
   "id": "moderate-translation",
   "metadata": {},
   "source": [
    "# Source code 2"
   ]
  },
  {
   "cell_type": "code",
   "execution_count": 2,
   "id": "acute-fabric",
   "metadata": {},
   "outputs": [],
   "source": [
    "class NeuralNetwork():\n",
    "    def __init__(self):\n",
    "        # seeding for random number generation\n",
    "        np.random.seed(1)\n",
    "        #converting weights to a 3 by 1 matrix with values from -1 to 1 and mean of 0\n",
    "        self.synaptic_weights = 2 * np.random.random((3, 1)) - 1\n",
    "\n",
    "    def sigmoid(self, x):\n",
    "        #applying the sigmoid function\n",
    "        return 1 / (1 + np.exp(-x))\n",
    "\n",
    "    def sigmoid_derivative(self, x):\n",
    "        #computing derivative to the Sigmoid function\n",
    "        return x * (1 - x)\n",
    "\n",
    "    def train(self, training_inputs, training_outputs, training_iterations):\n",
    "        #training the model to make accurate predictions while adjusting weights continually\n",
    "        for iteration in range(training_iterations):\n",
    "            #siphon the training data via  the neuron\n",
    "            output = self.think(training_inputs)\n",
    "            #computing error rate for back-propagation\n",
    "            error = training_outputs - output\n",
    "            #performing weight adjustments\n",
    "            adjustments = np.dot(training_inputs.T, error * self.sigmoid_derivative(output))\n",
    "\n",
    "            self.synaptic_weights += adjustments\n",
    "\n",
    "    def think(self, inputs):\n",
    "        #passing the inputs via the neuron to get output   \n",
    "        #converting values to floats\n",
    "        inputs = inputs.astype(float)\n",
    "        output = self.sigmoid(np.dot(inputs, self.synaptic_weights))\n",
    "        return output"
   ]
  },
  {
   "cell_type": "markdown",
   "id": "automatic-techno",
   "metadata": {},
   "source": [
    "## Terjemah syntax source code 2\n",
    "Beberapa arti dari syntax yang ada di kolom atas tersebut :"
   ]
  },
  {
   "cell_type": "markdown",
   "id": "indoor-calcium",
   "metadata": {},
   "source": [
    "   - <b>__init__</b> : merupakan subclass Modelkelas. Dalam hal ini, Anda harus mendefinisikan lapisan Anda di __init__dan Anda harus menerapkan model forward pass in call</br>\n",
    "   - <b>random</b> : digunakan untuk penyemaian dalam pembuatan nomor acak. mengonversi bobot menjadi matriks 3 kali 1 dengan nilai dari -1 hingga 1 dan rata-rata 0 </br>\n",
    "   - <b>sigmoid</b> : digunakan untuk penggunaan fungsi sigmoid </br>\n",
    "   - <b>train</b> : digunakan untuk menentukan perilaku yang berbeda dalam pelatihan dan inferensi. </br>\n",
    "   - <b>Iteration</b> : digunakan untuk membuat prediksi yang akurat sambil terus menyesuaikan bobot </br>\n",
    "   - <b>dot</b> : Produk titik dari dua larik. Parametersnya adalah --> a : Array untuk argumen pertama. b : seperti larik, untuk argumen kedua. out: ndarray/ opsional, meerupakan sebuah argumen keluaran. </br>\n",
    "   - <b>error</b> : digunakan untuk menghitung tingkat kesalahan untuk propagasi balik</br>\n",
    "   - "
   ]
  },
  {
   "cell_type": "markdown",
   "id": "classical-metadata",
   "metadata": {},
   "source": [
    "# Source code 3"
   ]
  },
  {
   "cell_type": "code",
   "execution_count": 5,
   "id": "north-flower",
   "metadata": {},
   "outputs": [
    {
     "name": "stdout",
     "output_type": "stream",
     "text": [
      "Menghasilkan Weights Pertama Secara Random: \n",
      "[[-0.16595599]\n",
      " [ 0.44064899]\n",
      " [-0.99977125]]\n",
      "Weights Akhir Setelah Proses Training: \n",
      "[[10.38040701]\n",
      " [-0.20641179]\n",
      " [-4.98452047]]\n"
     ]
    },
    {
     "name": "stdin",
     "output_type": "stream",
     "text": [
      "Masukan 1:  1\n",
      "Masukan 2:  2\n",
      "Masukan 3:  3\n"
     ]
    },
    {
     "name": "stdout",
     "output_type": "stream",
     "text": [
      "Data Input Terbaru:  1 2 3\n",
      "Output: \n",
      "[0.00678672]\n"
     ]
    }
   ],
   "source": [
    "if __name__ == \"__main__\":\n",
    "    #initializing the neuron class\n",
    "    neural_network = NeuralNetwork()\n",
    "    \n",
    "    print(\"Menghasilkan Weights Pertama Secara Random: \")\n",
    "    print(neural_network.synaptic_weights)\n",
    "    \n",
    "    #training data consisting of 4 examples--3 input values and 1 output\n",
    "    training_inputs = np.array([[0,0,1],\n",
    "                                [1,1,1],\n",
    "                                [1,0,1],\n",
    "                                [0,1,1]])\n",
    "\n",
    "    training_outputs = np.array([[0,1,1,0]]).T\n",
    "    \n",
    "    #training taking place\n",
    "    neural_network.train(training_inputs, training_outputs, 20000)\n",
    "\n",
    "    print(\"Weights Akhir Setelah Proses Training: \")\n",
    "    print(neural_network.synaptic_weights)\n",
    "\n",
    "    user_input_1 = str(input(\"Masukan 1: \"))\n",
    "    user_input_2 = str(input(\"Masukan 2: \"))\n",
    "    user_input_3 = str(input(\"Masukan 3: \"))\n",
    "    \n",
    "    print(\"Data Input Terbaru: \", user_input_1, user_input_2, user_input_3)\n",
    "    print(\"Output: \")\n",
    "    print(neural_network.think(np.array([user_input_1, user_input_2, user_input_3])))"
   ]
  },
  {
   "cell_type": "markdown",
   "id": "official-anger",
   "metadata": {},
   "source": [
    "## Terjemah syntax source code 3"
   ]
  },
  {
   "cell_type": "markdown",
   "id": "organic-joshua",
   "metadata": {},
   "source": [
    "Dalam Source code 3 ini tidak banyak menggunakan fungsi baru, melainkan hanya membangun kode untuk menjalankan perintah. Selebihnya dari fungsi dan syntax yang sudah dijabarkan hanyalah membuat variabel dan melakukan ekseskusi terhdap variabel yang sudah dibuat. Beberapa makna syntax pada tabel diatas adalah berikut ini : <br>"
   ]
  },
  {
   "cell_type": "markdown",
   "id": "modern-karaoke",
   "metadata": {},
   "source": [
    "   - <b>print</b> : digunakan untuk mencetak kaliamt ataupun sintax yang ada didalam kalimat tersebut"
   ]
  },
  {
   "cell_type": "markdown",
   "id": "distributed-exchange",
   "metadata": {},
   "source": [
    "## Hasil/ output program"
   ]
  },
  {
   "cell_type": "markdown",
   "id": "forbidden-render",
   "metadata": {},
   "source": [
    "Dalam source code ke-3 ini inti dari outputnya adalah perhitungan terhadap 3 input array yang kita inputkan. Berikut penjelsan singkat tentang output programnya : <br>"
   ]
  },
  {
   "cell_type": "markdown",
   "id": "worst-brave",
   "metadata": {},
   "source": [
    "- <b>print ke-1 & ke-2</b> : cetakan/ output pertama, program akan menampilkan weights pertama secara random. Hal ini dibuat dengan cara mengeksekusi nilai dari variabel \"neural_network\" dengan nilai \"synaptic_weights\". Setelah program berhasil diekseskusi, maka hasil program akan langsung ditampilkan dengan menggunakan program cetak yang ke-2\n",
    "- <b>print ke-2 & ke-3</b> : output yang selanjutnya akan menampilkan nilai weights akhir setelah di proses. Hal ini dibuat dengan cara membuat 4 sampel data dengan nilai 3 input dan 1 output yang berbentuk array. Setalah data berhasil didapat, data akan ditampilkan pada variabel \"training_outputs\". Setelah data selesai di proses, data tersebut akan digunakan untuk <i>re-value</i> nilai \"neural_network\" sebelumnya. Jadi pada proses ini, nilai \"neural_network\" sudah diperbarui dengan data yang baru saja di proses. Setelah datanya terbaca, \"neural_network\" akan menggunakan data tersebut untuk parametersnya.\n",
    "- <b>print ke-4, ke-5, dan ke-6</b> : keluaran daripada cetakan ini adalah menampilkan inputan yang kita masukan dan memproses ulang \"neural_network\" dengan fungsi \"think\" sebagai nilai dari outputnya"
   ]
  }
 ],
 "metadata": {
  "kernelspec": {
   "display_name": "Python 3",
   "language": "python",
   "name": "python3"
  },
  "language_info": {
   "codemirror_mode": {
    "name": "ipython",
    "version": 3
   },
   "file_extension": ".py",
   "mimetype": "text/x-python",
   "name": "python",
   "nbconvert_exporter": "python",
   "pygments_lexer": "ipython3",
   "version": "3.8.5"
  }
 },
 "nbformat": 4,
 "nbformat_minor": 5
}
