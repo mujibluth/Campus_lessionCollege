{
 "cells": [
  {
   "cell_type": "markdown",
   "id": "critical-think",
   "metadata": {
    "hideCode": false,
    "hidePrompt": false
   },
   "source": [
    "# Soal Ujian Responsi Praktikum Sistem Kendali Cerdas\n",
    "\n",
    "**Waktu Pelaksanaan: 08.00 - 12.00 WIB / 14 Juni 2021**"
   ]
  },
  {
   "cell_type": "markdown",
   "id": "satisfied-blanket",
   "metadata": {
    "hideCode": false,
    "hidePrompt": false
   },
   "source": [
    "## Peraturan\n",
    "1. Pengerjaan langsung pada cell file jupyter ini sesuai dengan perintah pada masing-masing soal\n",
    "2. Dilarang menambah cell\n",
    "3. Pengumpulan berupa file .pdf dan .ipynb yg diupload ke google form\n",
    "4. Nilai kelulusan pada ujian ini adalah 70\n",
    "5. Waktu pengerjaan ujian ini adalah 4 jam setelah soal dibagikan\n",
    "6. Hal-hal yang belum tercantum pada peraturan ini akan disampaikan pada grup wa\n",
    "7. Ujian bersifat terbuka\n",
    "8. Dilarang bekerja sama antar mahasiswa\n",
    "9. Bacalah dengan seksama terutama komentar-komentar yang ada pada cell tempat menulis jawaban"
   ]
  },
  {
   "cell_type": "markdown",
   "id": "solar-internet",
   "metadata": {
    "hideCode": false,
    "hidePrompt": false
   },
   "source": [
    "## Identitas\n",
    "- Nama: Abdul Mujiburrohman Luthfi\n",
    "- NIM: 19507334027\n",
    "\n",
    "---"
   ]
  },
  {
   "cell_type": "markdown",
   "id": "fuzzy-glass",
   "metadata": {
    "hideCode": false,
    "hidePrompt": false
   },
   "source": [
    "**[<font color='red'>PENTING</font>] Jalankan perintah di bawah ini untuk memasang dan mengimport library yang digunakan pada ujian ini**"
   ]
  },
  {
   "cell_type": "code",
   "execution_count": 2,
   "id": "acting-avenue",
   "metadata": {
    "hideCode": false,
    "hidePrompt": false
   },
   "outputs": [
    {
     "name": "stdout",
     "output_type": "stream",
     "text": [
      "Requirement already satisfied: numpy in f:\\users\\abdul\\anaconda3\\envs\\my-env\\lib\\site-packages (1.19.2)\n",
      "Requirement already satisfied: scikit-fuzzy in f:\\users\\abdul\\anaconda3\\envs\\my-env\\lib\\site-packages (0.4.2)\n",
      "Requirement already satisfied: networkx>=1.9.0 in f:\\users\\abdul\\anaconda3\\envs\\my-env\\lib\\site-packages (from scikit-fuzzy) (2.5)\n",
      "Requirement already satisfied: numpy>=1.6.0 in f:\\users\\abdul\\anaconda3\\envs\\my-env\\lib\\site-packages (from scikit-fuzzy) (1.19.2)\n",
      "Requirement already satisfied: scipy>=0.9.0 in f:\\users\\abdul\\anaconda3\\envs\\my-env\\lib\\site-packages (from scikit-fuzzy) (1.6.0)\n",
      "Requirement already satisfied: decorator>=4.3.0 in f:\\users\\abdul\\anaconda3\\envs\\my-env\\lib\\site-packages (from networkx>=1.9.0->scikit-fuzzy) (4.4.2)\n",
      "Requirement already satisfied: matplotlib in f:\\users\\abdul\\anaconda3\\envs\\my-env\\lib\\site-packages (3.3.4)\n",
      "Requirement already satisfied: numpy>=1.15 in f:\\users\\abdul\\anaconda3\\envs\\my-env\\lib\\site-packages (from matplotlib) (1.19.2)\n",
      "Requirement already satisfied: kiwisolver>=1.0.1 in f:\\users\\abdul\\anaconda3\\envs\\my-env\\lib\\site-packages (from matplotlib) (1.3.1)\n",
      "Requirement already satisfied: pyparsing!=2.0.4,!=2.1.2,!=2.1.6,>=2.0.3 in f:\\users\\abdul\\anaconda3\\envs\\my-env\\lib\\site-packages (from matplotlib) (2.4.7)\n",
      "Requirement already satisfied: cycler>=0.10 in f:\\users\\abdul\\anaconda3\\envs\\my-env\\lib\\site-packages (from matplotlib) (0.10.0)\n",
      "Requirement already satisfied: python-dateutil>=2.1 in f:\\users\\abdul\\anaconda3\\envs\\my-env\\lib\\site-packages (from matplotlib) (2.8.1)\n",
      "Requirement already satisfied: pillow>=6.2.0 in f:\\users\\abdul\\anaconda3\\envs\\my-env\\lib\\site-packages (from matplotlib) (8.1.0)\n",
      "Requirement already satisfied: six in f:\\users\\abdul\\anaconda3\\envs\\my-env\\lib\\site-packages (from cycler>=0.10->matplotlib) (1.15.0)\n"
     ]
    }
   ],
   "source": [
    "#hapus tanda #pada awal perintah di bawah ini untuk menginstall library yang dibutuhkan\n",
    "\n",
    "!pip install numpy\n",
    "!pip install scikit-fuzzy\n",
    "!pip install matplotlib\n",
    "\n",
    "%matplotlib inline\n",
    "\n",
    "import numpy as np\n",
    "import skfuzzy as fuzz\n",
    "from matplotlib import pyplot as plt\n",
    "from skfuzzy import control as ctrl\n",
    "import datetime"
   ]
  },
  {
   "cell_type": "markdown",
   "id": "breeding-tower",
   "metadata": {
    "hideCode": false,
    "hidePrompt": false
   },
   "source": [
    "---\n",
    "## Soal\n",
    "\n",
    "## A. (<font color='red'>30pts</font>) Fuzzy Logic "
   ]
  },
  {
   "cell_type": "markdown",
   "id": "adjacent-young",
   "metadata": {
    "hideCode": false,
    "hidePrompt": false
   },
   "source": [
    "### 1. (<font color='red'>9pts</font>) Gambarkan membership function dari input dan output sesuai dengan persamaan berikut ini dengan memanfaatkan library skfuzzy "
   ]
  },
  {
   "cell_type": "markdown",
   "id": "endangered-strengthening",
   "metadata": {
    "hideCode": false,
    "hidePrompt": false
   },
   "source": [
    "#### 1.a. (<font color='red'>3pts</font>) Temperature = {Cold, Medium, Hot}\n",
    "\n",
    "$$\\large \\mu_{A_{C o l d}}(x)=\\left\\{\\begin{array}{ll}0 & \\text { if } x \\leqslant 10 \\\\ \\frac{25-x}{25-10} & \\text { if } 10 \\leqslant x \\leqslant 25 \\\\ 0 & \\text { if } x \\geqslant 25\\end{array}\\right.$$\n",
    "\n",
    "$$\\large \\mu_{A_{M e d i u m}}(x)=\\left\\{\\begin{array}{ll}0 & \\text { if } x \\leqslant 15 \\\\ \\frac{x-15}{25-15} & \\text { if } 15 \\leqslant x \\leqslant 25 \\\\ \\frac{35-x}{35-25} & \\text { if } 25 \\leqslant x \\leqslant 35 \\\\ 0 & \\text { if } x \\geqslant 35\\end{array}\\right.$$\n",
    "\n",
    "$$\\large \\mu_{A_{H o t}}(x)=\\left\\{\\begin{array}{ll}0 & \\text { if } x \\leqslant 25 \\\\ \\frac{x-25}{40-25} & \\text { if } 25 \\leqslant x \\leqslant 40 \\\\ 0 & \\text { if } x \\geqslant 40\\end{array}\\right.$$"
   ]
  },
  {
   "cell_type": "code",
   "execution_count": 65,
   "id": "diverse-battle",
   "metadata": {
    "hideCode": false,
    "hidePrompt": false
   },
   "outputs": [
    {
     "name": "stderr",
     "output_type": "stream",
     "text": [
      "F:\\Users\\abdul\\anaconda3\\envs\\my-env\\lib\\site-packages\\skfuzzy\\control\\fuzzyvariable.py:122: UserWarning: Matplotlib is currently using module://ipykernel.pylab.backend_inline, which is a non-GUI backend, so cannot show the figure.\n",
      "  fig.show()\n"
     ]
    },
    {
     "data": {
      "image/png": "[encoded data removed]",
      "text/plain": [
       "<Figure size 432x288 with 1 Axes>"
      ]
     },
     "metadata": {
      "needs_background": "light"
     },
     "output_type": "display_data"
    }
   ],
   "source": [
    "#cell untuk jawaban no 1.a.\n",
    "#kerjakan dengan memanfaatkan perintah yang ada pada library skfuzzy\n",
    "#semua variabel telah ditulis, silahkan isi sesuai dengan perintah soal\n",
    "\n",
    "temperature = ctrl.Antecedent(np.arange(10, 41, 1), 'temperature')\n",
    "\n",
    "temperature['Cold']   = fuzz.trimf(temperature.universe, [10,10,25])\n",
    "temperature['Medium'] = fuzz.trimf(temperature.universe, [15,25,35])\n",
    "temperature['Hot']    = fuzz.trimf(temperature.universe, [25,40,40])\n",
    "\n",
    "temperature.view()"
   ]
  },
  {
   "cell_type": "markdown",
   "id": "rural-graham",
   "metadata": {
    "hideCode": false,
    "hidePrompt": false
   },
   "source": [
    "#### 1.b. (<font color='red'>3pts</font>) Humidity = {Wet, Normal, Dry}\n",
    "\n",
    "$$\\large \\mu_{B_{D r y}}(x)=\\left\\{\\begin{array}{ll}0 & \\text { if } x \\leqslant 20 \\\\ \\frac{60-x}{60-20} & \\text { if } 20 \\leqslant x \\leqslant 60 \\\\ 0 & \\text { if } x \\geqslant 60\\end{array}\\right.$$\n",
    "\n",
    "$$\\large \\mu_{B_{N o r m a l}}(x)=\\left\\{\\begin{array}{ll}0 & \\text { if } x \\leqslant 30 \\\\ \\frac{x-30}{45-30} & \\text { it } 30 \\leqslant x \\leqslant 45 \\\\ 1 & \\text { if } 45 \\leqslant x \\leqslant 75 \\\\ \\frac{90-x}{90-75} & \\text { it } 75 \\leqslant x \\leqslant 90 \\\\ 0 & \\text { it } x \\geqslant 90 \\end{array}\\right.$$\n",
    "\n",
    "$$\\large \\mu_{B_{W e t}}(x)=\\left\\{\\begin{array}{ll}0 & \\text { if } x \\leqslant 60 \\\\ \\frac{x-60}{100-60} & \\text { if } 60 \\leqslant x \\leqslant 100 \\\\ 0 & \\text { if } x \\geqslant 100\\end{array}\\right.$$"
   ]
  },
  {
   "cell_type": "code",
   "execution_count": 66,
   "id": "buried-aquarium",
   "metadata": {
    "hideCode": false,
    "hidePrompt": false
   },
   "outputs": [
    {
     "name": "stderr",
     "output_type": "stream",
     "text": [
      "F:\\Users\\abdul\\anaconda3\\envs\\my-env\\lib\\site-packages\\skfuzzy\\control\\fuzzyvariable.py:122: UserWarning: Matplotlib is currently using module://ipykernel.pylab.backend_inline, which is a non-GUI backend, so cannot show the figure.\n",
      "  fig.show()\n"
     ]
    },
    {
     "data": {
      "image/png": "[encoded data removed]",
      "text/plain": [
       "<Figure size 432x288 with 1 Axes>"
      ]
     },
     "metadata": {
      "needs_background": "light"
     },
     "output_type": "display_data"
    }
   ],
   "source": [
    "#cell untuk jawaban no 1.b.\n",
    "#kerjakan dengan memanfaatkan perintah yang ada pada library skfuzzy\n",
    "#semua variabel telah ditulis, silahkan isi sesuai dengan perintah soal\n",
    "\n",
    "humidity = ctrl.Antecedent(np.arange(20, 101, 1), 'humidity')\n",
    "\n",
    "humidity['Dry']    = fuzz.trimf(humidity.universe,  [20,20,60])\n",
    "humidity['Normal'] = fuzz.trapmf(humidity.universe, [30,45,75,90])\n",
    "humidity['Wet']    = fuzz.trimf(humidity.universe,  [60,100,100])\n",
    "\n",
    "humidity.view()"
   ]
  },
  {
   "cell_type": "markdown",
   "id": "quarterly-huntington",
   "metadata": {
    "hideCode": false,
    "hidePrompt": false
   },
   "source": [
    "#### 1.c. (<font color='red'>3pts</font>) Speed = {Slow, Moderate, Fast}\n",
    "\n",
    "$$\\large \\mu_{C_{S l o w}}(x)=\\left\\{\\begin{array}{ll}0 & \\text { if } x \\leqslant 0 \\\\ \\frac{50-x}{50-0} & \\text { if } 0 \\leqslant x \\leqslant 50 \\\\ 0 & \\text { if } x \\geqslant 50\\end{array}\\right.$$\n",
    "\n",
    "$$\\large \\mu_{C_{M o d e r a t e}}(x)=\\left\\{\\begin{array}{ll}0 & \\text { if } x \\leqslant 10 \\\\ \\frac{x-10}{50-10} & \\text { if } 10 \\leqslant x \\leqslant 50 \\\\ \\frac{90-x}{90-50} & \\text { if } 50 \\leqslant x \\leqslant 90 \\\\ 0 & \\text { if } x \\geqslant 90\\end{array}\\right.$$\n",
    "\n",
    "$$\\large \\mu_{C_{F a s t}}(x)=\\left\\{\\begin{array}{ll}0 & \\text { if } x \\leqslant 50 \\\\ \\frac{x-50}{100-50} & \\text { if } 50 \\leqslant x \\leqslant 100 \\\\ 0 & \\text { if } x \\geqslant 100\\end{array}\\right.$$\n"
   ]
  },
  {
   "cell_type": "code",
   "execution_count": 67,
   "id": "provincial-festival",
   "metadata": {
    "hideCode": false,
    "hidePrompt": false
   },
   "outputs": [
    {
     "name": "stderr",
     "output_type": "stream",
     "text": [
      "F:\\Users\\abdul\\anaconda3\\envs\\my-env\\lib\\site-packages\\skfuzzy\\control\\fuzzyvariable.py:122: UserWarning: Matplotlib is currently using module://ipykernel.pylab.backend_inline, which is a non-GUI backend, so cannot show the figure.\n",
      "  fig.show()\n"
     ]
    },
    {
     "data": {
      "image/png": "[encoded data removed]",
      "text/plain": [
       "<Figure size 432x288 with 1 Axes>"
      ]
     },
     "metadata": {
      "needs_background": "light"
     },
     "output_type": "display_data"
    }
   ],
   "source": [
    "#cell untuk jawaban no 1.c.\n",
    "#kerjakan dengan memanfaatkan perintah yang ada pada library skfuzzy\n",
    "#semua variabel telah ditulis, silahkan isi sesuai dengan perintah soal\n",
    "\n",
    "speed =ctrl.Consequent(np.arange(0, 101, 1), 'speed')\n",
    "\n",
    "speed['Slow']     = fuzz.trimf(speed.universe, [0,0,50])\n",
    "speed['Moderate'] = fuzz.trimf(speed.universe, [10,50,90])\n",
    "speed['Fast']     = fuzz.trimf(speed.universe, [50,100,100])\n",
    "\n",
    "speed.view()"
   ]
  },
  {
   "cell_type": "markdown",
   "id": "directed-latest",
   "metadata": {
    "hideCode": false,
    "hidePrompt": false
   },
   "source": [
    "### 2. (<font color='red'>6pts</font>) Hitung nilai dari membership function sesuai input yang ada pada soal berikut"
   ]
  },
  {
   "cell_type": "markdown",
   "id": "breathing-newspaper",
   "metadata": {
    "hideCode": false,
    "hidePrompt": false
   },
   "source": [
    "#### 2.a. (<font color='red'>3pts</font>) Berdasarkan nomor 1.a hitung nilai membership function dari nilai temperature = 27"
   ]
  },
  {
   "cell_type": "code",
   "execution_count": 68,
   "id": "optical-champagne",
   "metadata": {
    "hideCode": false,
    "hidePrompt": false
   },
   "outputs": [
    {
     "name": "stdout",
     "output_type": "stream",
     "text": [
      "temp_level_cold: 0.0\n",
      "temp_level_medium: 0.8\n",
      "temp_level_hot: 0.13333333333333333\n"
     ]
    }
   ],
   "source": [
    "#cell untuk jawaban no 2.a.\n",
    "#kerjakan dengan memanfaatkan perintah yang ada pada library skfuzzy\n",
    "#semua variabel telah ditulis, silahkan isi sesuai dengan perintah soal\n",
    "\n",
    "temp_value = 27\n",
    "\n",
    "x      = np.arange(10, 41, 1)\n",
    "Cold   = fuzz.trimf(x, [10, 10, 25])\n",
    "Medium = fuzz.trimf(x, [15, 25, 35])\n",
    "Hot    = fuzz.trimf(x, [25, 40, 40])\n",
    "\n",
    "temp_level_cold   = fuzz.interp_membership(x, Cold, temp_value)\n",
    "temp_level_medium = fuzz.interp_membership(x, Medium, temp_value)\n",
    "temp_level_hot    = fuzz.interp_membership(x, Hot, temp_value)\n",
    "\n",
    "print('temp_level_cold:',   temp_level_cold)\n",
    "print('temp_level_medium:', temp_level_medium)\n",
    "print('temp_level_hot:',    temp_level_hot)"
   ]
  },
  {
   "cell_type": "markdown",
   "id": "random-poster",
   "metadata": {
    "hideCode": false,
    "hidePrompt": false
   },
   "source": [
    "#### 2.b. (<font color='red'>3pts</font>) Berdasarkan nomor 1.b hitung nilai membership function dari nilai humidity = 80"
   ]
  },
  {
   "cell_type": "code",
   "execution_count": 69,
   "id": "distinguished-corrections",
   "metadata": {
    "hideCode": false,
    "hidePrompt": false
   },
   "outputs": [
    {
     "name": "stdout",
     "output_type": "stream",
     "text": [
      "hum_level_dry: 0.0\n",
      "hum_level_normal: 0.6666666666666666\n",
      "hum_level_wet: 0.5\n"
     ]
    }
   ],
   "source": [
    "#cell untuk jawaban no 2.b.\n",
    "#kerjakan dengan memanfaatkan perintah yang ada pada library skfuzzy\n",
    "#semua variabel telah ditulis, silahkan isi sesuai dengan perintah soal\n",
    "\n",
    "hum_value = 80\n",
    "\n",
    "y      = np.arange(20, 101, 1)\n",
    "Dry    = fuzz.trimf(y,  [20, 20, 60])\n",
    "Normal = fuzz.trapmf(y, [30, 45, 75, 90])\n",
    "Wet    = fuzz.trimf(y,  [60, 100, 100])\n",
    "\n",
    "hum_level_dry    = fuzz.interp_membership(y, Dry, hum_value)\n",
    "hum_level_normal = fuzz.interp_membership(y, Normal, hum_value)\n",
    "hum_level_wet    = fuzz.interp_membership(y, Wet, hum_value)\n",
    "\n",
    "print('hum_level_dry:',    hum_level_dry)\n",
    "print('hum_level_normal:', hum_level_normal)\n",
    "print('hum_level_wet:',    hum_level_wet)"
   ]
  },
  {
   "cell_type": "markdown",
   "id": "excellent-butter",
   "metadata": {
    "hideCode": false,
    "hidePrompt": false
   },
   "source": [
    "### 3. (<font color='red'>5pts</font>) Diketahui rule base seperti di bawah ini, maka buatlah kode dalam menentukan rule based dengan memanfaatkan library skfuzzy dan masih berhubungan dengan nomor 1"
   ]
  },
  {
   "cell_type": "markdown",
   "id": "capable-shareware",
   "metadata": {
    "hideCode": false,
    "hidePrompt": false
   },
   "source": [
    "<img src=\"rule-base.jpeg\"/>"
   ]
  },
  {
   "cell_type": "code",
   "execution_count": 73,
   "id": "comic-hanging",
   "metadata": {
    "hideCode": false,
    "hidePrompt": false
   },
   "outputs": [],
   "source": [
    "#cell untuk jawaban no 3.\n",
    "#kerjakan dengan memanfaatkan perintah yang ada pada library skfuzzy\n",
    "#semua variabel telah ditulis, silahkan isi sesuai dengan perintah soal\n",
    "\n",
    "rule1 = ctrl.Rule(temperature['Cold']      & humidity['Wet'],         speed['Slow'])\n",
    "rule2 = ctrl.Rule(temperature['Cold']      & humidity['Normal'],      speed['Slow'])\n",
    "rule3 = ctrl.Rule(temperature['Cold']      & humidity['Dry'],         speed['Moderate'])\n",
    "rule4 = ctrl.Rule(temperature['Medium']    & humidity['Wet'],         speed['Slow'])\n",
    "rule5 = ctrl.Rule(temperature['Medium']    & humidity['Normal'],      speed['Moderate'])\n",
    "rule6 = ctrl.Rule(temperature['Medium']    & humidity['Dry'],         speed['Fast'])\n",
    "rule7 = ctrl.Rule(temperature['Hot']       & humidity['Wet'],         speed['Moderate'])\n",
    "rule8 = ctrl.Rule(temperature['Hot']       & humidity['Normal'],      speed['Fast'])\n",
    "rule9 = ctrl.Rule(temperature['Hot']       & humidity['Dry'],         speed['Fast'])"
   ]
  },
  {
   "cell_type": "markdown",
   "id": "coated-newman",
   "metadata": {
    "hideCode": false,
    "hidePrompt": false
   },
   "source": [
    "### 4. (<font color='red'>2pts</font>) tuliskan kode untuk membuat rule base di atas menjadi sebuah sistem kendali"
   ]
  },
  {
   "cell_type": "code",
   "execution_count": 74,
   "id": "functioning-alignment",
   "metadata": {
    "hideCode": false,
    "hidePrompt": false
   },
   "outputs": [],
   "source": [
    "#cell untuk jawaban no 4.\n",
    "#kerjakan dengan memanfaatkan perintah yang ada pada library skfuzzy\n",
    "#semua variabel telah ditulis, silahkan isi sesuai dengan perintah soal\n",
    "\n",
    "speed_control = ctrl.ControlSystem([rule1, rule2, rule3, rule4, rule5, rule6, rule7, rule8, rule9])\n",
    "fan_speed     = ctrl.ControlSystemSimulation(speed_control)"
   ]
  },
  {
   "cell_type": "markdown",
   "id": "existing-scotland",
   "metadata": {
    "hideCode": false,
    "hidePrompt": false
   },
   "source": [
    "### 5. (<font color='red'>8pts</font>) Simulasikan sistem kendali fuzzy yang telah dibuat dengan masukan sebagai berikut"
   ]
  },
  {
   "cell_type": "markdown",
   "id": "stainless-choir",
   "metadata": {
    "hideCode": false,
    "hidePrompt": false
   },
   "source": [
    "#### 5.a. (<font color='red'>4pts</font>) masukan temperature = 30 dan humidity = 50"
   ]
  },
  {
   "cell_type": "code",
   "execution_count": 76,
   "id": "massive-assets",
   "metadata": {
    "hideCode": false,
    "hidePrompt": false
   },
   "outputs": [
    {
     "name": "stdout",
     "output_type": "stream",
     "text": [
      "fan_speed:  56.442543551285034\n"
     ]
    },
    {
     "name": "stderr",
     "output_type": "stream",
     "text": [
      "F:\\Users\\abdul\\anaconda3\\envs\\my-env\\lib\\site-packages\\skfuzzy\\control\\fuzzyvariable.py:122: UserWarning: Matplotlib is currently using module://ipykernel.pylab.backend_inline, which is a non-GUI backend, so cannot show the figure.\n",
      "  fig.show()\n"
     ]
    },
    {
     "data": {
      "image/png": "[encoded data removed]",
      "text/plain": [
       "<Figure size 432x288 with 1 Axes>"
      ]
     },
     "metadata": {
      "needs_background": "light"
     },
     "output_type": "display_data"
    }
   ],
   "source": [
    "#cell untuk jawaban no 5.a.\n",
    "#kerjakan dengan memanfaatkan perintah yang ada pada library skfuzzy\n",
    "\n",
    "temp_value = 30\n",
    "hum_value = 50\n",
    "\n",
    "fan_speed.input['humidity']    = hum_value\n",
    "fan_speed.input['temperature'] = temp_value\n",
    "fan_speed.compute()\n",
    "\n",
    "print('fan_speed: ', fan_speed.output['speed'])\n",
    "speed.view(sim=fan_speed)"
   ]
  },
  {
   "cell_type": "markdown",
   "id": "capital-fabric",
   "metadata": {
    "hideCode": false,
    "hidePrompt": false
   },
   "source": [
    "#### 5.b. (<font color='red'>4pts</font>) masukan temperature = 25 dan humidity = 90"
   ]
  },
  {
   "cell_type": "code",
   "execution_count": 77,
   "id": "renewable-conservation",
   "metadata": {
    "hideCode": false,
    "hidePrompt": false
   },
   "outputs": [
    {
     "name": "stdout",
     "output_type": "stream",
     "text": [
      "fan_speed:  17.499999999999996\n"
     ]
    },
    {
     "name": "stderr",
     "output_type": "stream",
     "text": [
      "F:\\Users\\abdul\\anaconda3\\envs\\my-env\\lib\\site-packages\\skfuzzy\\control\\fuzzyvariable.py:122: UserWarning: Matplotlib is currently using module://ipykernel.pylab.backend_inline, which is a non-GUI backend, so cannot show the figure.\n",
      "  fig.show()\n"
     ]
    },
    {
     "data": {
      "image/png": "[encoded data removed]",
      "text/plain": [
       "<Figure size 432x288 with 1 Axes>"
      ]
     },
     "metadata": {
      "needs_background": "light"
     },
     "output_type": "display_data"
    }
   ],
   "source": [
    "#cell untuk jawaban no 5.b.\n",
    "#kerjakan dengan memanfaatkan perintah yang ada pada library skfuzzy\n",
    "\n",
    "temp_value = 25\n",
    "hum_value = 90\n",
    "\n",
    "fan_speed.input['humidity']    = hum_value\n",
    "fan_speed.input['temperature'] = temp_value\n",
    "fan_speed.compute()\n",
    "\n",
    "print('fan_speed: ', fan_speed.output['speed'])\n",
    "speed.view(sim=fan_speed)"
   ]
  },
  {
   "cell_type": "markdown",
   "id": "effective-recommendation",
   "metadata": {
    "hideCode": false,
    "hidePrompt": false
   },
   "source": [
    "## B. (<font color='red'>35pts</font>) Neural Network "
   ]
  },
  {
   "cell_type": "markdown",
   "id": "nearby-natural",
   "metadata": {
    "hideCode": false,
    "hidePrompt": false
   },
   "source": [
    "### 6. (<font color='red'>5pts</font>) Buatlah kode yang digunakan untuk mencari nilai dari fungsi aktivasi berikut yang ditunjukkan dengan gambar / plot dari masing-masing fungsi aktivasi"
   ]
  },
  {
   "cell_type": "markdown",
   "id": "satellite-health",
   "metadata": {
    "hideCode": false,
    "hidePrompt": false
   },
   "source": [
    "#### 6.a. (<font color='red'>2.5pts</font>) Fungsi aktivasi Sigmoid\n",
    "$\\large f(x)=\\frac{1}{1+e^{-x}}$"
   ]
  },
  {
   "cell_type": "code",
   "execution_count": 78,
   "id": "timely-remainder",
   "metadata": {
    "hideCode": false,
    "hidePrompt": false
   },
   "outputs": [
    {
     "data": {
      "image/png": "[encoded data removed]",
      "text/plain": [
       "<Figure size 432x288 with 1 Axes>"
      ]
     },
     "metadata": {
      "needs_background": "light"
     },
     "output_type": "display_data"
    }
   ],
   "source": [
    "#cell untuk jawaban no 6.a.\n",
    "#kerjakan dengan memanfaatkan perintah yang ada pada library skfuzzy\n",
    "#nama fungsi dan perintah plot sudah disediakan, isilah return value pada fungsi sesuai dengan perintah\n",
    "\n",
    "def sigmoid(x):\n",
    "    sig = 1/ (1+np.exp(-x))\n",
    "    return sig\n",
    "\n",
    "x = np.linspace(-10, 10)\n",
    "plt.plot(x, sigmoid(x))\n",
    "plt.title('Sigmoid Activation Function')\n",
    "plt.show()"
   ]
  },
  {
   "cell_type": "markdown",
   "id": "coral-apache",
   "metadata": {
    "hideCode": false,
    "hidePrompt": false
   },
   "source": [
    "#### 6.b. (<font color='red'>2.5pts</font>) Fungsi aktivasi ReLU\n",
    "\n",
    "$\\large f(x)=\\left\\{\\begin{array}{l}0 \\text { for } x<0 \\\\ x \\text { for } x \\geq 0\\end{array}\\right.$"
   ]
  },
  {
   "cell_type": "code",
   "execution_count": 80,
   "id": "sealed-marijuana",
   "metadata": {
    "hideCode": false,
    "hidePrompt": false
   },
   "outputs": [
    {
     "data": {
      "image/png": "[encoded data removed]",
      "text/plain": [
       "<Figure size 432x288 with 1 Axes>"
      ]
     },
     "metadata": {
      "needs_background": "light"
     },
     "output_type": "display_data"
    }
   ],
   "source": [
    "#cell untuk jawaban no 6.b.\n",
    "#kerjakan dengan memanfaatkan perintah yang ada pada library skfuzzy\n",
    "#nama fungsi dan perintah plot sudah disediakan, isilah return value pada fungsi sesuai dengan perintah\n",
    "\n",
    "def ReLU(x):\n",
    "    relu = np.maximum(0, x)\n",
    "    return relu\n",
    "\n",
    "x = np.linspace(-10, 10)\n",
    "plt.plot(x, ReLU(x))\n",
    "plt.title('ReLU Activation Function')\n",
    "plt.show()"
   ]
  },
  {
   "cell_type": "markdown",
   "id": "divided-harrison",
   "metadata": {
    "hideCode": false,
    "hidePrompt": false
   },
   "source": [
    "### 7. (<font color='red'>30pts</font>) Diketahui pasangan data input dan output seperti di bawah ini. Carilah nilai x dan y dengan menggunakan estimasi dari hasil neural network\n",
    "\n",
    "| Input 1 | Input 2| Input 3 | Output |\n",
    "|:-------:|:------:|:-------:|:------:|\n",
    "|    0    |   1    |    0    |    0   |\n",
    "|    0    |   1    |    1    |    0   |\n",
    "|    0    |   0    |    0    |    0   |\n",
    "|    1    |   0    |    0    |    1   |\n",
    "|    1    |   1    |    1    |    1   |\n",
    "|    1    |   0    |    1    |    1   |\n",
    "|    1    |   1    |    0    |    x   |\n",
    "|    0    |   1    |    1    |    y   |"
   ]
  },
  {
   "cell_type": "code",
   "execution_count": 3,
   "id": "brave-killing",
   "metadata": {
    "hideCode": false,
    "hidePrompt": false
   },
   "outputs": [
    {
     "name": "stdout",
     "output_type": "stream",
     "text": [
      "First Generated Weights: \n",
      "[[-0.7258341 ]\n",
      " [ 0.34122515]\n",
      " [ 1.13861127]]\n",
      " \n",
      "Weights After Training: \n",
      "[[0.6944065 ]\n",
      " [0.21531576]\n",
      " [0.0926602 ]]\n",
      " \n",
      "Input1:[1, 1, 0], Output1: [1 1 0] ,Rounded Output1: [1 1 0]\n",
      "Input2:[0, 1, 1], Output2: [0 1 1] ,Rounded Output2: [0 1 1]\n"
     ]
    }
   ],
   "source": [
    "#cell untuk jawaban no 7\n",
    "#kerjakan dengan memanfaatkan perintah yang ada pada library skfuzzy\n",
    "#nama fungsi, variable yang diperlukan sudah disediakan, isilah return value pada fungsi sesuai dengan perintah pada masing-masing fungsi\n",
    "\n",
    "#masukan dan keluaran yang akan digunakan untuk proses training\n",
    "inputs = np.array([[0, 1, 0],\n",
    "                   [0, 1, 1],\n",
    "                   [0, 0, 0],\n",
    "                   [1, 0, 0],\n",
    "                   [1, 1, 1],\n",
    "                   [1, 0, 1]])\n",
    "\n",
    "outputs = np.array([[0, 0, 0, 1, 1, 1]]).T\n",
    "\n",
    "def initialization():\n",
    "    weights = np.random.randn(3,1)\n",
    "    return weights #weight merupakan bobot awalan yang digenerate secara random yang dibentuk menggunakan numpy array dengan dimensi 3 baris 1 kolom\n",
    "\n",
    "def sigmoid(inputs):\n",
    "    sig = np.exp(x)/(1+np.exp(x))\n",
    "    return sig #sig merupakan return value untuk perhitungan persamaan sigmoid\n",
    "\n",
    "def sigmoid_derivative(inputs):\n",
    "    sigdev = sigmoid(x)*(1-sigmoid(x))\n",
    "    return sigdev #sig merupakan return value untuk perhitungan persamaan sigmoid derivative\n",
    "\n",
    "def forward(inputs, weights):\n",
    "    output = inputs[-1]\n",
    "    return output #output dari perhitungan forward dari neural network\n",
    "\n",
    "def train(inputs, outputs, weights, iterations):\n",
    "    for iteration in range(iterations):\n",
    "        weights = np.random.randn(3,1)\n",
    "    return weights #weight merupakan bobot terbaru hasil training\n",
    "\n",
    "#cetak bobot awalan\n",
    "weights = initialization()\n",
    "print(\"First Generated Weights: \")\n",
    "print(weights)\n",
    "print(' ')\n",
    "\n",
    "#cetak bobot setelah proses traininig\n",
    "weights = train(inputs, outputs, weights, 25000)\n",
    "print(\"Weights After Training: \")\n",
    "print(weights)\n",
    "print(' ')\n",
    "\n",
    "#test dengan nilai yang ditanyakan, tidak perlu diubah\n",
    "x1 = np.array([[1, 1, 0]])\n",
    "x2 = np.array([[0, 1, 1]])\n",
    "print('Input1:[1, 1, 0], Output1:', forward(x1, weights), ',Rounded Output1:', np.round(forward(x1, weights)))\n",
    "print('Input2:[0, 1, 1], Output2:', forward(x2, weights), ',Rounded Output2:', np.round(forward(x2, weights)))"
   ]
  },
  {
   "cell_type": "markdown",
   "id": "likely-playlist",
   "metadata": {
    "hideCode": false,
    "hidePrompt": false
   },
   "source": [
    "## C. (<font color='red'>35pts</font>) Genetic Algorithm"
   ]
  },
  {
   "cell_type": "markdown",
   "id": "tutorial-harvey",
   "metadata": {
    "hideCode": false,
    "hidePrompt": false
   },
   "source": [
    "### 8. (<font color='red'>5pts</font>) Buatlah sebuah fungsi yang dapat digunakan dalam algoritma genetika sehingga dapat menggenerate sebuah chromosome dengan ketentuan sesuai di bawah ini"
   ]
  },
  {
   "cell_type": "code",
   "execution_count": 225,
   "id": "assigned-publisher",
   "metadata": {
    "hideCode": false,
    "hidePrompt": false
   },
   "outputs": [
    {
     "name": "stdout",
     "output_type": "stream",
     "text": [
      "Target Length :  26\n",
      "Target        :  Abdul Mujiburrohman Luthfi\n",
      "Chromosome    :  cCX8i]!wOBeDn{PH!,e*9Tf@kZ\n"
     ]
    }
   ],
   "source": [
    "#cell untuk jawaban no 8\n",
    "#kerjakan dengan memanfaatkan library numpy, dll sesuai kebutuhan\n",
    "#nama fungsi, variabel yang diperlukan dan print sudah disediakan, isilah return value pada fungsi sesuai dengan perintah\n",
    "\n",
    "#catatan\n",
    "#chromosome adalah kumpulana gene, yang mana karakter pada gene sudah ditentukan oleh geneSet\n",
    "#panjang karakter dari chromosome harus sama dengan panjang karakter dari target\n",
    "\n",
    "geneSet = 'abcdefghijklmnopqrstuvwxyzABCDEFGHIJKLMNOPQRSTUVWXYZ '\n",
    "target = 'Abdul Mujiburrohman Luthfi' #ganti dengan nama Anda\n",
    "\n",
    "def createChromosome(target):\n",
    "    random_number = np.random.randint(32, 126, size=len(target))\n",
    "    gene = ''.join([chr(i) for i in random_number])\n",
    "    return gene #tipe data dari gene adalah string, dapat dicek dengan perintah type(variable)\n",
    "\n",
    "chromosome = createChromosome(target) #pemanggilan fungsi yang return valuenya disimpan pada variable chromosome\n",
    "print('Target Length : ', len(target))\n",
    "print('Target        : ', target)\n",
    "print('Chromosome    : ', chromosome)"
   ]
  },
  {
   "cell_type": "markdown",
   "id": "french-puppy",
   "metadata": {
    "hideCode": false,
    "hidePrompt": false
   },
   "source": [
    "### 9. (<font color='red'>5pts</font>) Buatlah sebuah fungsi yang dapat digunakan dalam algoritma genetika yang dapat digunakan untuk menghitung fitness value dari sebuah chromosome terhadap target yang ditentukan"
   ]
  },
  {
   "cell_type": "code",
   "execution_count": 227,
   "id": "horizontal-madrid",
   "metadata": {
    "hideCode": false,
    "hidePrompt": false
   },
   "outputs": [
    {
     "name": "stdout",
     "output_type": "stream",
     "text": [
      "Target        :  Abdul Mujiburrohman Luthfi\n",
      "Chromosome    :  cCX8i]!wOBeDn{PH!,e*9Tf@kZ\n",
      "Fitness Value :  0\n"
     ]
    }
   ],
   "source": [
    "#cell untuk jawaban no 9\n",
    "#kerjakan dengan memanfaatkan library numpy, dll sesuai kebutuhan\n",
    "#nama fungsi, variabel yang diperlukan dan print sudah disediakan, isilah return value pada fungsi sesuai dengan perintah\n",
    "\n",
    "#catatan\n",
    "#menghitung nilai fitness dapat dilakukan dengan cara membandingkan chromosome dengan target, apabila sama bernilai 1, apabila tidak sama bernilai 0\n",
    "#nilai fitness adalah total dari nilai perbandingan yang didapatkan\n",
    "\n",
    "def fitnessGene(gene, target):\n",
    "    fit = sum(1 for expected, actual in zip(target, gene)if expected==actual)\n",
    "    return fit #tipe data dari fit adalah integer, dapat dicek dengan perintah type(variable)\n",
    "\n",
    "fitness = fitnessGene(chromosome, target) #pemanggilan fungsi yang return valuenya disimpan pada variable fitness\n",
    "print('Target        : ', target)\n",
    "print('Chromosome    : ', chromosome)\n",
    "print('Fitness Value : ', fitness)"
   ]
  },
  {
   "cell_type": "markdown",
   "id": "compact-hammer",
   "metadata": {
    "hideCode": false,
    "hidePrompt": false
   },
   "source": [
    "### 10. (<font color='red'>5pts</font>) Buatlah sebuah fungsi yang dapat digunakan dalam algoritma genetika untuk membentuk sebuah populasi yang terdiri dari chromosome dan nilai fitnessnya"
   ]
  },
  {
   "cell_type": "code",
   "execution_count": 228,
   "id": "brazilian-reducing",
   "metadata": {
    "hideCode": false,
    "hidePrompt": false
   },
   "outputs": [
    {
     "name": "stdout",
     "output_type": "stream",
     "text": [
      "No| Chromosome                 | Fitness Value\n",
      "---------------------------------------\n",
      "0 | JxBDfQ1FHls5Sz_\"8}<f]Ft1[% | 1\n",
      "1 | e(}k_+;=l=6 DL,mpsZLA`k=4t | 0\n",
      "2 | bJza%xtm5xf?d1)QntSQi1_SsU | 0\n",
      "3 | tgN!SXoRd(`gf)1Z{/N=xD(.FL | 0\n",
      "4 | gc9[4)L.%W/@aLs2g ka>s +I} | 0\n",
      "5 | \"K>fdo*U)^Q6j%N\\TZ dg$\"MFl | 0\n",
      "6 | r[waT=J>'5O^rFF_sOpq\\'T$-C | 1\n",
      "7 | {OxHuaz1u'lr8!71 UR-qGhz.{ | 0\n",
      "8 | ''\"4\"0)\\UcU?xm?Xo$et?Md@-@ | 0\n",
      "9 | Y*7uyq?M?-1m;nz\\H@\"wTo`\"}S | 1\n",
      "10 | 3w<}#yb(EOHPa40;%`3*kT&AmP | 0\n",
      "11 | JDRM)5Ks&ka[IoWQc+HT&M04CT | 0\n",
      "12 | \\G<OE?l*MD\"^TdrxEx4kWU,<V1 | 0\n",
      "13 | 5D%O*,!Y*O6z*7fYZgNxaQ#0 $ | 0\n",
      "14 | >X-]$PPRFN{{%A{z4B'ACTUxOC | 0\n",
      "15 | Q(\"Hd3s>igN6+p_\"6^4V4l_`a| | 0\n",
      "16 | QOXEI1%2RKr{DqPUMXflar_@>I | 0\n",
      "17 | KW<[o$.:()2a{n>Rszl\"Jv/o|8 | 0\n",
      "18 | A/r^,Ce*KHeG!$L\"kBbXN(bSq| | 1\n",
      "19 | 8${-cs:OMd>bYfUdMk@miR%v%3 | 0\n",
      "20 | IurAu[3uE, Gu^HU}=>E}g\"i<f | 1\n",
      "21 | {[Z-KcO0-}>/m:Gd j%<r?nEl\\ | 0\n",
      "22 | 7\\;CQifkL:<Cl2GKm+GMzxPu2A | 1\n",
      "23 | EQL$*YGrL2lahl^:hILC 9-}Jq | 0\n",
      "24 | ^[)^AZVbD2c`=f+rISx%Ni,z>Z | 0\n",
      "25 | }-C$txTo7}xkcaj<U<Q1/}'` V | 0\n",
      "26 | ..2=^*\"c_UGq*axh/xUdt!q,V3 | 1\n",
      "27 | #RjS4w}q<E3o%[} B/9T?]6Aw` | 0\n",
      "28 | !Db?N,NN6290DAfd1\"!|xuL}<y | 1\n",
      "29 | p$q_Oo/1(wBU;03eOX.^4EY8n1 | 0\n",
      "30 | [Vitb|@(f4&&A<5Aj^A;G#m}Q` | 0\n",
      "31 | [V!@,Y4YWf]}%li0k5szpQe[|4 | 0\n",
      "32 | RfOu8*M9w7P]-\"8j} U7\"?pYed | 2\n",
      "33 | 'k:DjP/zdjry?yy5+$)xR>$RF! | 0\n",
      "34 | \\TjhHwUEb'D2?g6OjUfG aE_(Y | 0\n",
      "35 | LPjsK8Nls]v JzweCLOKg?\"Pdb | 0\n",
      "36 | G,ODJ\\X>e]Sb*m3je1{X1TMM:= | 0\n",
      "37 | wW#Q8:35%68Q'k'tgvP^G:o!AE | 0\n",
      "38 | 1j+_,!f5uv<7.\"y|&mRqTNu:_$ | 0\n",
      "39 | U&S`?vdfk4(.9cZpaRX+^`e+q| | 0\n",
      "40 | bb]0MZ:a\"dv*[35m3M3c|k&.., | 1\n",
      "41 | H>Hfudhq:J]Ntkq=Lb{Emo[[Ic | 0\n",
      "42 | f:U7:UbGE40z%o3*ErD&xVibfX | 1\n",
      "43 | ;Mn 8`$2)5D#L?CFTW<}s&-\\Kw | 0\n",
      "44 | %[06EtA[uoin8phTgS[/KF\"ML? | 0\n",
      "45 | X^5T3:)I/p|>{J{7s{IwY^+e'] | 0\n",
      "46 | G%QVbe]/Gici|21L0Q#g88WO7V | 1\n",
      "47 | ^ 7JIx|BL l*.>&+Rzk(6\\tL+E | 1\n",
      "48 | 7S7Y[ {jz_lkZq>H6!88/u?9Cl | 2\n",
      "49 | RlVKWXxrxHEkz3.0}IL9V*%ON6 | 0\n",
      "50 | rsHW1Um\"'Irs^arzK\\+sKoan(O | 0\n",
      "51 | Ky.mTo8,cpIeqgfZ8L^y3x\"(X{ | 0\n",
      "52 | )M8(CB6,5A}!:C#K%#G^0?j,pK | 0\n",
      "53 | f`@d^0o/'X)f;eOg[M8E0ff+!? | 0\n",
      "54 | *!\\7*st9$9MJpK}yY}Wo\\tIKz] | 0\n",
      "55 | 6#j<pq5)GSnP/sa'dB^.wwCW}S | 0\n",
      "56 | Pru5KT!nYCu?{77'T$1m1{%^d' | 0\n",
      "57 | xoJ}`:L1!ZP{$`Ek@D97z*fSPR | 0\n",
      "58 | [^$s[?+.-3-qk-AKa-9d#Tx.z= | 0\n",
      "59 | !%p:*A>c(cs}as8Ki7A%9%c<_d | 0\n",
      "60 | |Qvw{yEN`jg`=}`]NE|XA]$14n | 0\n",
      "61 | l%>KDM1yYpT(|)RUql^#[976Q| | 0\n",
      "62 | rKe0bef#`V|l{hYQK0.D7.^(pP | 0\n",
      "63 | })3jM8F-hqE`Lf\\_.t_HI_dpjc | 0\n",
      "64 | SsW^i7wj(y|FU-SGmj*h%y$PwG | 1\n",
      "65 | 1wZb^k.|NuRdu/VXa*=Q#U03%L | 0\n",
      "66 | nW:eZyrK^Na0:q1QpB<:\"fJ=]z | 0\n",
      "67 | #tf7E9ltW}k5CxF4Vl}{]=pL24 | 0\n",
      "68 | (.+{l\\bmatqL%hHd1[fXw`CSr  | 1\n",
      "69 | KM-C(#PG}xGw`d6Oq>2;]4lQI! | 0\n",
      "70 | H1'J#Mew#zEl8%3mvmHfe!Y?;g | 0\n",
      "71 | yI[HGS}J0W-|KH{?Y:&%T$>Y>O | 0\n",
      "72 | <Qtn,oui4.O> Jk+ElqO_x7hux | 1\n",
      "73 | n,L_]]{k7H7+GLC&6MFu$sO=J6 | 0\n",
      "74 | >LMn`vZjfXcdSyy8719bD#>=aW | 0\n",
      "75 | Hr|b>j'$mRtWG7'&>X9L],![v2 | 0\n",
      "76 | <ZdVf&$\"F2_XYN#7@9!;j !IcW | 1\n",
      "77 | Qrk> wZn,IhfYSW}VGcA!#d >\\ | 0\n",
      "78 | t&3DnE)o|*Iu=|<B[{Oy+}jqo  | 1\n",
      "79 | X$aO)9mxSSC}f3z4!$JMS[Iv<x | 0\n",
      "80 | bP!Q q'.{Q)`oVfZ-?i|X&J>tF | 0\n",
      "81 | SB)V](>+Xt43:#DmM3(uKa#^<% | 0\n",
      "82 | Xce9W8x>8wRZM7\"'CLL!/Z2t|a | 0\n",
      "83 | oL 5U[*1E3oFjqc9m6c>zj}0/Y | 1\n",
      "84 | !CfrWVg;xL5E?'}3;;UJL<((/n | 1\n",
      "85 | \\yOCH[':JqTtoU{yAQfb)qcl![ | 0\n",
      "86 | vmxUO6w,$g*m_L4ZZIwxxyltHs | 0\n",
      "87 | ;;{.(|W%goe|a8) :@.C}dy?IA | 0\n",
      "88 | 0^G1YTS3(:$a|5:@n.:XUQ+UpD | 0\n",
      "89 | LBa;=j<>dr{g4 I<({de&^sSsW | 0\n",
      "90 | ,<rJ^SV?>cwpSSuXe0JfsdhE>U | 0\n",
      "91 | jxW:i]4@Y,>96/Va)NC$xxn|^h | 0\n",
      "92 | d(Fo4IoL|Pe.z1*B'|>4xm?Mxg | 0\n",
      "93 | Xc[yJ:%TMwRoj]5+Y}(w;}9UVm | 0\n",
      "94 | T\"n*7x\"PY0#XB\"96KD{1H-MRSH | 0\n",
      "95 | g;|0my-]0&):.@<JN\"D[x,SRm) | 0\n",
      "96 | r6 yCe&\\`E:Z4BApF>YAlx]%:6 | 0\n",
      "97 | :k.\"'$^\\y:S%./@/9C_tzSU7Y! | 0\n",
      "98 | d\"t8glYF9c\"_7){D&/e#sH_y+e | 0\n",
      "99 | ?$-gTl&=41:{K7Oz;5c'(qd24} | 0\n"
     ]
    }
   ],
   "source": [
    "#cell untuk jawaban no 10\n",
    "#kerjakan dengan memanfaatkan library numpy, dll sesuai kebutuhan\n",
    "#nama fungsi, variabel yang diperlukan dan print sudah disediakan, isilah return value pada fungsi sesuai dengan perintah\n",
    "\n",
    "#catatan\n",
    "#populasi adalah kumpulan dari chromosome dari hasil generate no 8 dan nilai fitness dari perhitungan no 9\n",
    "\n",
    "space = ' ' #abaikan variable ini, hanya sebagai spasi pada tampilan print\n",
    "populationMax = 100\n",
    "\n",
    "def createPopulation(target, populationMax):\n",
    "    pop = {}\n",
    "    for i in range (populationMax):\n",
    "        gen = createChromosome(target)\n",
    "        genFitness = fitnessGene(gen, target)\n",
    "        pop[gen] = genFitness\n",
    "    return pop #tipe data dari pop adalah dictionary, yang mana pasangan key dan value adalah chromosome dan nilai fitness dari chromosome tersebut\n",
    "\n",
    "population = createPopulation(target, populationMax) #pemanggilan fungsi yang return valuenya disimpan pada variable population\n",
    "Chromosome = list(population.keys()) #pengambilan data key dari dictionary population yang kemudian dijadikan list\n",
    "Fitness    = list(population.values()) #pengambilan data value dari dictionary population yang kemudian dijadikan list\n",
    "\n",
    "#perintah untuk mencetak, dapat diabaikan\n",
    "print('No| Chromosome' + str(space*(len(target)-9)) + '| Fitness Value')\n",
    "print('---------------------------------------')\n",
    "for i in range(populationMax):\n",
    "    print(i,'|', Chromosome[i],'|',Fitness[i])"
   ]
  },
  {
   "cell_type": "markdown",
   "id": "developing-arkansas",
   "metadata": {
    "hideCode": false,
    "hidePrompt": false
   },
   "source": [
    "### 11. (<font color='red'>5pts</font>) Buatlah sebuah fungsi yang dapat digunakan dalam algoritma genetika untuk melakukan proses seleksi dengan cara memilih 2 chromosome dengan nilai fitness terbaik dalam sebuah populasi"
   ]
  },
  {
   "cell_type": "code",
   "execution_count": 229,
   "id": "quality-adventure",
   "metadata": {
    "hideCode": false,
    "hidePrompt": false
   },
   "outputs": [
    {
     "name": "stdout",
     "output_type": "stream",
     "text": [
      "No| Chromosome                 | Fitness Value\n",
      "---------------------------------------\n",
      "0 | RfOu8*M9w7P]-\"8j} U7\"?pYed | 2\n",
      "1 | 7S7Y[ {jz_lkZq>H6!88/u?9Cl | 2\n"
     ]
    }
   ],
   "source": [
    "#cell untuk jawaban no 11\n",
    "#kerjakan dengan memanfaatkan library numpy, dll sesuai kebutuhan\n",
    "#nama fungsi, variabel yang diperlukan dan print sudah disediakan, isilah return value pada fungsi sesuai dengan perintah\n",
    "\n",
    "#catatan\n",
    "#proses selection adalah mengambil 2 chromosome dengan nilai fitness terbaik dalam sebuah populasi\n",
    "#clue: bisa menggunakan sorting\n",
    "\n",
    "parentMax = 2\n",
    "\n",
    "def selection(population):\n",
    "    par = {}\n",
    "    pop = dict(population)\n",
    "    for i in range(2):\n",
    "        gen = max(pop, key=pop.get)\n",
    "        genFitness = pop[gen]\n",
    "        par[gen] = genFitness\n",
    "        if i == 0:\n",
    "            del pop[gen]\n",
    "    return par #tipe data dari par adalah dictionary, yang terdiri dar 2 pasangan key:value yang merupakan chromosome dengan nilai fitness terbaik\n",
    "    \n",
    "parent     = selection(population) #pemanggilan fungsi yang return valuenya disimpan pada variable parent\n",
    "Chromosome = list(parent.keys()) #pengambilan data key dari dictionary parent yang kemudian dijadikan list\n",
    "Fitness    = list(parent.values()) #pengambilan data value dari dictionary parent yang kemudian dijadikan list\n",
    "\n",
    "#perintah untuk mencetak, dapat diabaikan\n",
    "print('No| Chromosome' + str(space*(len(target)-9)) + '| Fitness Value')\n",
    "print('---------------------------------------')\n",
    "for i in range(parentMax):\n",
    "    print(i,'|', Chromosome[i],'|',Fitness[i])"
   ]
  },
  {
   "cell_type": "markdown",
   "id": "patent-greek",
   "metadata": {
    "hideCode": false,
    "hidePrompt": false
   },
   "source": [
    "### 12. (<font color='red'>5pts</font>) Buatlah sebuah fungsi yang dapat digunakan dalam algoritma genetika untuk melakukan proses crossover dengan cara membagi 2 bagian dari chromosome hasil selection dan menggabungkan dengan bagian lain dari chromosome lainnya"
   ]
  },
  {
   "cell_type": "code",
   "execution_count": 230,
   "id": "ranging-johns",
   "metadata": {
    "hideCode": false,
    "hidePrompt": false
   },
   "outputs": [
    {
     "name": "stdout",
     "output_type": "stream",
     "text": [
      "No| Chromosome                 | Fitness Value\n",
      "---------------------------------------\n",
      "0 | RfOu8*M9w7P]-q>H6!88/u?9Cl | 3\n",
      "1 | 7S7Y[ {jz_lkZ\"8j} U7\"?pYed | 1\n"
     ]
    }
   ],
   "source": [
    "#cell untuk jawaban no 12\n",
    "#kerjakan dengan memanfaatkan library numpy, dll sesuai kebutuhan\n",
    "#nama fungsi, variabel yang diperlukan dan print sudah disediakan, isilah return value pada fungsi sesuai dengan perintah\n",
    "\n",
    "#catatan\n",
    "#proses crossover, misal\n",
    "#par1 = abcd5678\n",
    "#par2 = 1234efgh\n",
    "#maka hasilnya adalah,\n",
    "#child1 = abcdefgh\n",
    "#child2 = 12345678\n",
    "\n",
    "def crossover(parent, target):\n",
    "    child = {}\n",
    "    cp = round(len(list(parent)[1])/2)\n",
    "    for i in range(2):\n",
    "        gen = list(parent)[i][:cp] + list(parent)[1-i][cp:]\n",
    "        genFitness = fitnessGene(gen, target)\n",
    "        child[gen] = genFitness\n",
    "    return child #tipe data dari child adalah dictionary, yang terdiri dar 2 pasangan key:value yang merupakan pasangan chromosome dan nilai fitnessnya setelah melalui proses crossover\n",
    "    \n",
    "children   = crossover(parent, target) #pemanggilan fungsi yang return valuenya disimpan pada variable children\n",
    "Chromosome = list(children.keys()) #pengambilan data key dari dictionary children yang kemudian dijadikan list\n",
    "Fitness    = list(children.values()) #pengambilan data value dari dictionary children yang kemudian dijadikan list\n",
    "\n",
    "#perintah untuk mencetak, dapat diabaikan\n",
    "print('No| Chromosome' + str(space*(len(target)-9)) + '| Fitness Value')\n",
    "print('---------------------------------------')\n",
    "for i in range(parentMax):\n",
    "    print(i,'|', Chromosome[i],'|',Fitness[i])"
   ]
  },
  {
   "cell_type": "markdown",
   "id": "suitable-genre",
   "metadata": {
    "hideCode": false,
    "hidePrompt": false
   },
   "source": [
    "### 13. (<font color='red'>5pts</font>) Buatlah sebuah fungsi yang dapat digunakan dalam algoritma genetika untuk melakukan proses mutasi dari hasil crossover"
   ]
  },
  {
   "cell_type": "code",
   "execution_count": 231,
   "id": "insured-combat",
   "metadata": {
    "hideCode": false,
    "hidePrompt": false
   },
   "outputs": [
    {
     "name": "stdout",
     "output_type": "stream",
     "text": [
      "No| Chromosome                 | Fitness Value\n",
      "---------------------------------------\n",
      "0 | Rfgu8*M9w7P]-qmHfp88/)V9C* | 2\n",
      "1 | 7SDY[ {3z_{#Z*uj}VU7\"?p>ed | 1\n"
     ]
    }
   ],
   "source": [
    "#cell untuk jawaban no 13\n",
    "#kerjakan dengan memanfaatkan library numpy, dll sesuai kebutuhan\n",
    "#nama fungsi, variabel yang diperlukan dan print sudah disediakan, isilah return value pada fungsi sesuai dengan perintah\n",
    "\n",
    "#catatan\n",
    "#mutation adalah proses mengubah salah satu karakter random dari chromosome terbaik yang mana perubahan ini terjadi berdasarkan mutationRate\n",
    "#mutationRate=1 artinya pasti terjadi perubahan, mutationRate=0 artinya tidak terjadi perubahan, diantaranya adalah besarnya peluang terjadi perubahan\n",
    "\n",
    "mutationRate = 0.3\n",
    "\n",
    "def mutation(child, target, mutation_rate):\n",
    "    mutant = { }\n",
    "    for i in range(len(child)):\n",
    "        data = list(list(child)[i])\n",
    "        for j in range (len(data)):\n",
    "            if np.random.rand(1) <= mutation_rate:\n",
    "                ch = chr(np.random.randint(32, 126))\n",
    "                data[j] = ch\n",
    "        gen = ''.join(data)\n",
    "        genFitness = fitnessGene(gen, target)\n",
    "        mutant[gen] = genFitness\n",
    "    return mutant #tipe data dari mutant adalah dictionary, yang terdiri dar 2 pasangan key:value yang merupakan pasangan chromosome dan nilai fitnessnya setelah melalui proses mutation\n",
    "\n",
    "mutant     = mutation(children, target, mutationRate) #pemanggilan fungsi yang return valuenya disimpan pada variable mutant\n",
    "Chromosome = list(mutant.keys()) #pengambilan data key dari dictionary mutant yang kemudian dijadikan list\n",
    "Fitness    = list(mutant.values()) #pengambilan data value dari dictionary mutant yang kemudian dijadikan list\n",
    "\n",
    "#perintah untuk mencetak, dapat diabaikan\n",
    "print('No| Chromosome' + str(space*(len(target)-9)) + '| Fitness Value')\n",
    "print('---------------------------------------')\n",
    "for i in range(parentMax):\n",
    "    print(i,'|', Chromosome[i],'|',Fitness[i])"
   ]
  },
  {
   "cell_type": "markdown",
   "id": "cleared-mississippi",
   "metadata": {
    "hideCode": false,
    "hidePrompt": false
   },
   "source": [
    "### 14. (<font color='red'>5pts</font>) Buatlah sebuah fungsi yang dapat digunakan dalam algoritma genetika untuk mengembalikan hasil mutasi ke dalam populasi awal yang mana populasi tersebut telah dikurangi 2 chromosome dengan nilai fitness terburuk sehingga jumlah populasi adalah sesuai dengan ketentuan populasi maksimal"
   ]
  },
  {
   "cell_type": "code",
   "execution_count": 232,
   "id": "vietnamese-terry",
   "metadata": {
    "hideCode": false,
    "hidePrompt": false
   },
   "outputs": [
    {
     "name": "stdout",
     "output_type": "stream",
     "text": [
      "No| Chromosome                 | Fitness Value\n",
      "---------------------------------------\n",
      "0 | JxBDfQ1FHls5Sz_\"8}<f]Ft1[% | 1\n",
      "1 | tgN!SXoRd(`gf)1Z{/N=xD(.FL | 0\n",
      "2 | gc9[4)L.%W/@aLs2g ka>s +I} | 0\n",
      "3 | \"K>fdo*U)^Q6j%N\\TZ dg$\"MFl | 0\n",
      "4 | r[waT=J>'5O^rFF_sOpq\\'T$-C | 1\n",
      "5 | {OxHuaz1u'lr8!71 UR-qGhz.{ | 0\n",
      "6 | ''\"4\"0)\\UcU?xm?Xo$et?Md@-@ | 0\n",
      "7 | Y*7uyq?M?-1m;nz\\H@\"wTo`\"}S | 1\n",
      "8 | 3w<}#yb(EOHPa40;%`3*kT&AmP | 0\n",
      "9 | JDRM)5Ks&ka[IoWQc+HT&M04CT | 0\n",
      "10 | \\G<OE?l*MD\"^TdrxEx4kWU,<V1 | 0\n",
      "11 | 5D%O*,!Y*O6z*7fYZgNxaQ#0 $ | 0\n",
      "12 | >X-]$PPRFN{{%A{z4B'ACTUxOC | 0\n",
      "13 | Q(\"Hd3s>igN6+p_\"6^4V4l_`a| | 0\n",
      "14 | QOXEI1%2RKr{DqPUMXflar_@>I | 0\n",
      "15 | KW<[o$.:()2a{n>Rszl\"Jv/o|8 | 0\n",
      "16 | A/r^,Ce*KHeG!$L\"kBbXN(bSq| | 1\n",
      "17 | 8${-cs:OMd>bYfUdMk@miR%v%3 | 0\n",
      "18 | IurAu[3uE, Gu^HU}=>E}g\"i<f | 1\n",
      "19 | {[Z-KcO0-}>/m:Gd j%<r?nEl\\ | 0\n",
      "20 | 7\\;CQifkL:<Cl2GKm+GMzxPu2A | 1\n",
      "21 | EQL$*YGrL2lahl^:hILC 9-}Jq | 0\n",
      "22 | ^[)^AZVbD2c`=f+rISx%Ni,z>Z | 0\n",
      "23 | }-C$txTo7}xkcaj<U<Q1/}'` V | 0\n",
      "24 | ..2=^*\"c_UGq*axh/xUdt!q,V3 | 1\n",
      "25 | #RjS4w}q<E3o%[} B/9T?]6Aw` | 0\n",
      "26 | !Db?N,NN6290DAfd1\"!|xuL}<y | 1\n",
      "27 | p$q_Oo/1(wBU;03eOX.^4EY8n1 | 0\n",
      "28 | [Vitb|@(f4&&A<5Aj^A;G#m}Q` | 0\n",
      "29 | [V!@,Y4YWf]}%li0k5szpQe[|4 | 0\n",
      "30 | RfOu8*M9w7P]-\"8j} U7\"?pYed | 2\n",
      "31 | 'k:DjP/zdjry?yy5+$)xR>$RF! | 0\n",
      "32 | \\TjhHwUEb'D2?g6OjUfG aE_(Y | 0\n",
      "33 | LPjsK8Nls]v JzweCLOKg?\"Pdb | 0\n",
      "34 | G,ODJ\\X>e]Sb*m3je1{X1TMM:= | 0\n",
      "35 | wW#Q8:35%68Q'k'tgvP^G:o!AE | 0\n",
      "36 | 1j+_,!f5uv<7.\"y|&mRqTNu:_$ | 0\n",
      "37 | U&S`?vdfk4(.9cZpaRX+^`e+q| | 0\n",
      "38 | bb]0MZ:a\"dv*[35m3M3c|k&.., | 1\n",
      "39 | H>Hfudhq:J]Ntkq=Lb{Emo[[Ic | 0\n",
      "40 | f:U7:UbGE40z%o3*ErD&xVibfX | 1\n",
      "41 | ;Mn 8`$2)5D#L?CFTW<}s&-\\Kw | 0\n",
      "42 | %[06EtA[uoin8phTgS[/KF\"ML? | 0\n",
      "43 | X^5T3:)I/p|>{J{7s{IwY^+e'] | 0\n",
      "44 | G%QVbe]/Gici|21L0Q#g88WO7V | 1\n",
      "45 | ^ 7JIx|BL l*.>&+Rzk(6\\tL+E | 1\n",
      "46 | 7S7Y[ {jz_lkZq>H6!88/u?9Cl | 2\n",
      "47 | RlVKWXxrxHEkz3.0}IL9V*%ON6 | 0\n",
      "48 | rsHW1Um\"'Irs^arzK\\+sKoan(O | 0\n",
      "49 | Ky.mTo8,cpIeqgfZ8L^y3x\"(X{ | 0\n",
      "50 | )M8(CB6,5A}!:C#K%#G^0?j,pK | 0\n",
      "51 | f`@d^0o/'X)f;eOg[M8E0ff+!? | 0\n",
      "52 | *!\\7*st9$9MJpK}yY}Wo\\tIKz] | 0\n",
      "53 | 6#j<pq5)GSnP/sa'dB^.wwCW}S | 0\n",
      "54 | Pru5KT!nYCu?{77'T$1m1{%^d' | 0\n",
      "55 | xoJ}`:L1!ZP{$`Ek@D97z*fSPR | 0\n",
      "56 | [^$s[?+.-3-qk-AKa-9d#Tx.z= | 0\n",
      "57 | !%p:*A>c(cs}as8Ki7A%9%c<_d | 0\n",
      "58 | |Qvw{yEN`jg`=}`]NE|XA]$14n | 0\n",
      "59 | l%>KDM1yYpT(|)RUql^#[976Q| | 0\n",
      "60 | rKe0bef#`V|l{hYQK0.D7.^(pP | 0\n",
      "61 | })3jM8F-hqE`Lf\\_.t_HI_dpjc | 0\n",
      "62 | SsW^i7wj(y|FU-SGmj*h%y$PwG | 1\n",
      "63 | 1wZb^k.|NuRdu/VXa*=Q#U03%L | 0\n",
      "64 | nW:eZyrK^Na0:q1QpB<:\"fJ=]z | 0\n",
      "65 | #tf7E9ltW}k5CxF4Vl}{]=pL24 | 0\n",
      "66 | (.+{l\\bmatqL%hHd1[fXw`CSr  | 1\n",
      "67 | KM-C(#PG}xGw`d6Oq>2;]4lQI! | 0\n",
      "68 | H1'J#Mew#zEl8%3mvmHfe!Y?;g | 0\n",
      "69 | yI[HGS}J0W-|KH{?Y:&%T$>Y>O | 0\n",
      "70 | <Qtn,oui4.O> Jk+ElqO_x7hux | 1\n",
      "71 | n,L_]]{k7H7+GLC&6MFu$sO=J6 | 0\n",
      "72 | >LMn`vZjfXcdSyy8719bD#>=aW | 0\n",
      "73 | Hr|b>j'$mRtWG7'&>X9L],![v2 | 0\n",
      "74 | <ZdVf&$\"F2_XYN#7@9!;j !IcW | 1\n",
      "75 | Qrk> wZn,IhfYSW}VGcA!#d >\\ | 0\n",
      "76 | t&3DnE)o|*Iu=|<B[{Oy+}jqo  | 1\n",
      "77 | X$aO)9mxSSC}f3z4!$JMS[Iv<x | 0\n",
      "78 | bP!Q q'.{Q)`oVfZ-?i|X&J>tF | 0\n",
      "79 | SB)V](>+Xt43:#DmM3(uKa#^<% | 0\n",
      "80 | Xce9W8x>8wRZM7\"'CLL!/Z2t|a | 0\n",
      "81 | oL 5U[*1E3oFjqc9m6c>zj}0/Y | 1\n",
      "82 | !CfrWVg;xL5E?'}3;;UJL<((/n | 1\n",
      "83 | \\yOCH[':JqTtoU{yAQfb)qcl![ | 0\n",
      "84 | vmxUO6w,$g*m_L4ZZIwxxyltHs | 0\n",
      "85 | ;;{.(|W%goe|a8) :@.C}dy?IA | 0\n",
      "86 | 0^G1YTS3(:$a|5:@n.:XUQ+UpD | 0\n",
      "87 | LBa;=j<>dr{g4 I<({de&^sSsW | 0\n",
      "88 | ,<rJ^SV?>cwpSSuXe0JfsdhE>U | 0\n",
      "89 | jxW:i]4@Y,>96/Va)NC$xxn|^h | 0\n",
      "90 | d(Fo4IoL|Pe.z1*B'|>4xm?Mxg | 0\n",
      "91 | Xc[yJ:%TMwRoj]5+Y}(w;}9UVm | 0\n",
      "92 | T\"n*7x\"PY0#XB\"96KD{1H-MRSH | 0\n",
      "93 | g;|0my-]0&):.@<JN\"D[x,SRm) | 0\n",
      "94 | r6 yCe&\\`E:Z4BApF>YAlx]%:6 | 0\n",
      "95 | :k.\"'$^\\y:S%./@/9C_tzSU7Y! | 0\n",
      "96 | d\"t8glYF9c\"_7){D&/e#sH_y+e | 0\n",
      "97 | ?$-gTl&=41:{K7Oz;5c'(qd24} | 0\n",
      "98 | Rfgu8*M9w7P]-qmHfp88/)V9C* | 2\n",
      "99 | 7SDY[ {3z_{#Z*uj}VU7\"?p>ed | 1\n"
     ]
    }
   ],
   "source": [
    "#cell untuk jawaban no 14\n",
    "#kerjakan dengan memanfaatkan library numpy, dll sesuai kebutuhan\n",
    "#nama fungsi, variabel yang diperlukan dan print sudah disediakan, isilah return value pada fungsi sesuai dengan perintah\n",
    "\n",
    "#catatan\n",
    "#2 chromosome dengan nilai fitness terkecil dikeluarkan dari populasi\n",
    "#2 chromosome hasil mutasi pada no 14 dimasukkan ke populasi\n",
    "\n",
    "def regeneration(mutant, pop):\n",
    "    for i in range(len(mutant)):\n",
    "        bad_gen = min(pop, key=pop.get)\n",
    "        del pop[bad_gen]\n",
    "    pop.update(mutant)\n",
    "    return pop #tipe data dari popTemp adalah dictionary, yang terdiri dar 100 pasangan key:value yang merupakan pasangan chromosome dan nilai fitnessnya setelah melalui proses regeneration\n",
    "\n",
    "populationNew = regeneration(mutant, population) #pemanggilan fungsi yang return valuenya disimpan pada variable populationNew\n",
    "Chromosome = list(populationNew.keys()) #pengambilan data key dari dictionary populationNew yang kemudian dijadikan list\n",
    "Fitness = list(populationNew.values()) #pengambilan data value dari dictionary populationNew yang kemudian dijadikan list\n",
    "\n",
    "#perintah untuk mencetak, dapat diabaikan\n",
    "print('No| Chromosome' + str(space*(len(target)-9)) + '| Fitness Value')\n",
    "print('---------------------------------------')\n",
    "for i in range(populationMax):\n",
    "    print(i,'|', Chromosome[i],'|',Fitness[i])"
   ]
  },
  {
   "cell_type": "markdown",
   "id": "anticipated-parcel",
   "metadata": {
    "hideCode": false,
    "hidePrompt": false
   },
   "source": [
    "### 15. (<font color='red'>0pts</font>) Buatlah program yang mengulangi semua proses yang telah dikerjakan menjadi sebuah algoritma yang utuh untuk mendapatkan target yang diinginkan"
   ]
  },
  {
   "cell_type": "code",
   "execution_count": 233,
   "id": "tamil-nutrition",
   "metadata": {
    "hideCode": false,
    "hidePrompt": false
   },
   "outputs": [
    {
     "name": "stdout",
     "output_type": "stream",
     "text": [
      "----------------------------------------------\n",
      "The Best Chromosome\tFitness\tTime\n",
      "----------------------------------------------\n",
      "8rayryOueA,4rIg43>pQT.O8=n\t7.69%\t0:00:00.010995\n",
      "8rIyryOuEA,4r$!FBZz z4]khU\t11.54%\t0:00:00.012985\n",
      "89dy`yOueA)4r$!FBZz 4c]!hU\t15.38%\t0:00:00.049001\n",
      "'9dy`WOu=A)4rooFBZz 74FkhU\t19.23%\t0:00:00.131984\n",
      "89dy`yOueA)4roo^Bqn5N4+h-U\t23.08%\t0:00:00.150987\n",
      "'9dy`WOujA)4roo^Bqn5Ny+hwU\t26.92%\t0:00:00.195986\n",
      "'9dy`WOuj1)4roo^Bqn5k4+hfU\t30.77%\t0:00:00.406388\n",
      "'9d]`WOujA)4roo^Bqn5kuhhfU\t34.62%\t0:00:00.448715\n",
      "'9dy$W(uj)o4roo}Bqn5LuhhfU\t38.46%\t0:00:00.526835\n",
      "A9dy`WOujUE4roo}Bqn5LuhhfU\t42.31%\t0:00:00.558097\n",
      "AAdylWOujUE4roo}Bqn5LuhhfU\t46.15%\t0:00:00.705390\n",
      "AAdulW(ujUE4rooiQSn5Luhhf,\t50.0%\t0:00:01.253280\n",
      "AAdulW<ujUEuroo}Bqn5LuhhfU\t53.85%\t0:00:01.977332\n",
      "A>dulW<ujUburooiQBn5LuIhf,\t57.69%\t0:00:03.704888\n",
      "A>dulW{ujiburoo}BqnzLu|hfU\t61.54%\t0:00:04.725901\n",
      "AbdulW{ujiburooi&BnoLuIhfR\t65.38%\t0:00:06.481188\n",
      "Abdulj{ujiburqohfqnzLudhfU\t69.23%\t0:00:08.862213\n",
      "AbdulW{ujiburqohfqnzLudhfi\t73.08%\t0:00:09.022213\n",
      "Abdulj{ujiburqohDanzLudhfi\t76.92%\t0:00:12.149283\n",
      "AbdulW{ujiburqohDanzLuthfi\t80.77%\t0:00:30.569468\n",
      "Abdulj{ujiburqohmanzLuthfi\t84.62%\t0:00:30.913211\n",
      "Abdul {ujiburqohmanzLuthfi\t88.46%\t0:00:39.327975\n",
      "Abdul {ujiburrohmanzLuthfi\t92.31%\t0:00:40.988729\n",
      "Abdul MujiburrohmanzLuthfi\t96.15%\t0:01:41.379185\n",
      "Abdul Mujiburrohman Luthfi\t100.0%\t0:05:48.637192\n"
     ]
    }
   ],
   "source": [
    "#cell untuk jawaban no 15\n",
    "#ini adalah program check untuk fungsi-fungsi yang telah dibuat dinomor sebelumnya\n",
    "#apabila variable pada no 8-14 sudah sesuai dengan yang diminta maka pada perintah ini tidak terdapat error\n",
    "\n",
    "def bestGene(parent):\n",
    "    gene = max(parent, key=parent.get)\n",
    "    return gene\n",
    "\n",
    "def bestFitness(parent):\n",
    "    fitness = parent[max(parent, key=parent.get)]\n",
    "    return fitness\n",
    "\n",
    "def display(parent):\n",
    "    timeDiff=datetime.datetime.now()-startTime\n",
    "    print('{}\\t{}%\\t{}'.format(bestGene(parent), round((bestFitness(parent)/len(target))*100, 2), timeDiff))\n",
    "\n",
    "target = 'Abdul Mujiburrohman Luthfi' #ganti dengan nama Anda\n",
    "populationMax = 100\n",
    "mutationRate = 0.25\n",
    "    \n",
    "startTime=datetime.datetime.now()\n",
    "print('----------------------------------------------')\n",
    "print('{}\\t{}\\t{}'.format('The Best Chromosome', 'Fitness','Time'))\n",
    "print('----------------------------------------------')\n",
    "population = createPopulation(target, populationMax)\n",
    "parent = selection(population)\n",
    "display(parent)\n",
    "\n",
    "while 1:\n",
    "    children = crossover(parent, target)\n",
    "    mutant = mutation(children, target, mutationRate)\n",
    "    if bestFitness(parent) >= bestFitness(mutant):\n",
    "        continue\n",
    "    population = regeneration(mutant, population)\n",
    "    parent = selection(population)\n",
    "    display(parent)\n",
    "    if bestFitness(mutant) >= len(target):\n",
    "        break"
   ]
  }
 ],
 "metadata": {
  "celltoolbar": "Hide code",
  "hide_code_all_hidden": false,
  "kernelspec": {
   "display_name": "Python 3",
   "language": "python",
   "name": "python3"
  },
  "language_info": {
   "codemirror_mode": {
    "name": "ipython",
    "version": 3
   },
   "file_extension": ".py",
   "mimetype": "text/x-python",
   "name": "python",
   "nbconvert_exporter": "python",
   "pygments_lexer": "ipython3",
   "version": "3.8.5"
  }
 },
 "nbformat": 4,
 "nbformat_minor": 5
}
